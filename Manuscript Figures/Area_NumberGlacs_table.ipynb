{
 "cells": [
  {
   "cell_type": "code",
   "execution_count": null,
   "id": "7635314e-07a8-46c9-82d0-e1e31cb05f31",
   "metadata": {},
   "outputs": [],
   "source": [
    "import numpy as np\n",
    "import pandas as pd\n",
    "from datetime import date\n",
    "import collections\n",
    "import datetime\n",
    "import os\n",
    "import xarray as xr\n",
    "import csv"
   ]
  },
  {
   "cell_type": "code",
   "execution_count": null,
   "id": "569d77a3-b03c-4b34-88b8-d9ce70401fcb",
   "metadata": {},
   "outputs": [],
   "source": [
    "# Define the directories and file names\n",
    "output_dir_params = '/Users/finnwimberly/Desktop/Lizz Research/CSV Outputs/Parameters/'\n",
    "output_dir_areas = '/Users/finnwimberly/Desktop/Lizz Research/CSV Outputs/Area/All Basins/'\n",
    "\n",
    "# Read the CSV files into DataFrames\n",
    "number_glaciers_path = os.path.join(output_dir_params, '#glaciers.csv')\n",
    "initial_areas_path = os.path.join(output_dir_areas, 'InitialAreas_ALL.csv')\n",
    "\n",
    "number_glaciers_df = pd.read_csv(number_glaciers_path, index_col=0)\n",
    "initial_areas_df = pd.read_csv(initial_areas_path, index_col=0)\n",
    "\n",
    "desired_columns = ['GloGEM', 'OGGM', 'PyGEM']\n",
    "initial_areas_df = initial_areas_df[desired_columns]\n",
    "\n",
    "# Convert basin names to title case\n",
    "initial_areas_df.index = initial_areas_df.index.str.title()\n",
    "number_glaciers_df.index = number_glaciers_df.index.str.title()\n",
    "\n",
    "# Ensure the DataFrames have the same index (basins)\n",
    "common_index = initial_areas_df.index.intersection(number_glaciers_df.index)\n",
    "initial_areas_df = initial_areas_df.loc[common_index]\n",
    "number_glaciers_df = number_glaciers_df.loc[common_index]\n",
    "\n",
    "# Interleave the columns from the two DataFrames\n",
    "combined_df = pd.concat([initial_areas_df.iloc[:, [0]], number_glaciers_df.iloc[:, [0]], \n",
    "                         initial_areas_df.iloc[:, [1]], number_glaciers_df.iloc[:, [1]], \n",
    "                         initial_areas_df.iloc[:, [2]], number_glaciers_df.iloc[:, [2]]], \n",
    "                         axis=1)\n",
    "\n",
    "# Create a multi-index for the columns\n",
    "columns = pd.MultiIndex.from_product(\n",
    "    [['GloGEM', 'OGGM', 'PyGEM'], ['Initial Area [$Km^2$]', 'Number of Glaciers']],\n",
    "    names=['Model', 'Metric']\n",
    ")\n",
    "\n",
    "# Set the multi-index columns to the combined DataFrame\n",
    "combined_df.columns = columns\n",
    "\n",
    "# Define the output path for the combined CSV\n",
    "output_dir_combined = '/Users/finnwimberly/Desktop/Lizz Research/CSV Outputs/'\n",
    "output_combined_path = os.path.join(output_dir_combined, 'Combined_InitialAreas_NumberGlaciers.csv')\n",
    "\n",
    "# Save the combined DataFrame to a CSV file with specific formatting\n",
    "combined_df.to_csv(output_combined_path, header=True, index=True, \n",
    "                   float_format='%.2f')  # Constrain to 2 decimals for area values\n",
    "\n",
    "# Save the combined DataFrame to a CSV file without headers\n",
    "combined_df.to_csv(output_combined_path, header=False, index=True, \n",
    "                   float_format='%.2f')  # Constrain to 2 decimals for area values"
   ]
  },
  {
   "cell_type": "code",
   "execution_count": null,
   "id": "022c2975-d510-4b6d-b663-d81b6dd5696f",
   "metadata": {},
   "outputs": [],
   "source": [
    "initial_areas_df\n",
    "desired_columns = ['GloGEM', 'OGGM', 'PyGEM']\n",
    "initial_areas_df[desired_columns]"
   ]
  },
  {
   "cell_type": "code",
   "execution_count": null,
   "id": "7502ec21-210a-4504-81c8-de8fa9d3da17",
   "metadata": {},
   "outputs": [],
   "source": [
    "combined_df"
   ]
  },
  {
   "cell_type": "code",
   "execution_count": null,
   "id": "ae4b1bfd-2de2-4813-9319-896daf8473be",
   "metadata": {},
   "outputs": [],
   "source": []
  }
 ],
 "metadata": {
  "kernelspec": {
   "display_name": "Python 3 (ipykernel)",
   "language": "python",
   "name": "python3"
  },
  "language_info": {
   "codemirror_mode": {
    "name": "ipython",
    "version": 3
   },
   "file_extension": ".py",
   "mimetype": "text/x-python",
   "name": "python",
   "nbconvert_exporter": "python",
   "pygments_lexer": "ipython3",
   "version": "3.11.3"
  }
 },
 "nbformat": 4,
 "nbformat_minor": 5
}
