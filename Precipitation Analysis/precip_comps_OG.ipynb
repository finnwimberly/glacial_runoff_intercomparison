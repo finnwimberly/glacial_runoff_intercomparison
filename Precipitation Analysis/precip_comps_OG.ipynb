{
 "cells": [
  {
   "cell_type": "code",
   "execution_count": null,
   "id": "df05b99a-d06f-4120-93ec-37ec3d188112",
   "metadata": {},
   "outputs": [],
   "source": [
    "import xarray as xr\n",
    "import glob\n",
    "import pandas as pd\n",
    "import numpy as np\n",
    "import matplotlib.pyplot as plt\n",
    "import os\n",
    "\n",
    "#Define all basins of interest \n",
    "basins = {'RHINE':'6242', 'RHONE':'6243','PO':'6241', 'DANUBE':'6202', 'TITICACA':'3912', 'SANTA':'3425', \n",
    "            'OCONA':'3418', 'MAJES':'3416', 'MAGDALENA':'3227', 'AMAZON':'3203', 'YELCHO':'3429', \n",
    "            'VALDIVIA':'3428', 'SERRANO':'3426', 'RAPEL':'3423', 'PUELO':'3422', 'PASCUA':'3420', \n",
    "            'PALENA':'3419', 'HUASCO':'3412', 'COPIAPO':'3409', 'CISNES':'3408', 'BIOBIO':'3405', 'BAKER':'3404',\n",
    "            'AZOPARDO':'3403', 'AISEN':'3401', 'SANTA CRUZ':'3244', 'NEGRO':'3232', 'COLORADO':'3212', \n",
    "            'CHICO':'3209', 'TORNEALVEN':'6255', 'THJORSA':'6254', 'OLFUSA':'6237', 'LULEALVEN':'6227', \n",
    "            'KUBAN':'6223', 'KALIXALVEN':'6219', 'GLOMAA':'6213', 'DRAMSELVA':'6209', 'SVARTA':'6110', \n",
    "            'LAGARFLJOT':'6104', 'JOKULSA A FJOLLUM':'6101', 'CLUTHA':'5406', 'YUKON':'4435', 'TAKU':'4431', \n",
    "             'SUSITNA':'4430','STIKINE':'4428', 'SKEENA':'4427','SKAGIT':'4426','NUSHAGAK':'4418','NASS':'4416',\n",
    "            'KUSKOKWIM':'4414','FRASER':'4410', 'COPPER':'4408', 'COLUMBIA':'4406', 'ALSEK':'4401', 'NELSON':'4125', \n",
    "              'MACKENZIE':'4123','COLVILLE':'4110', 'YSYK-KOL':'2919', 'UVS NUUR':'2918', 'TARIM HE':'2914', \n",
    "              'TALAS':'2913', 'LAKE BALKHASH':'2910','HAR US NUUR':'2909', 'CHUY':'2905', 'ARAL SEA':'2902', \n",
    "              'YELLOW RIVER':'2434', 'MEKONG':'2421', 'KAMCHATKA':'2413', 'SALWEEN':'2319', 'IRRAWADDY':'2310', \n",
    "              'INDUS':'2309', 'GANGES':'2306','BRAHMAPUTRA':'2302', 'OB':'2108', 'INDIGIRKA':'2103','YANGTZE' : '2433'}"
   ]
  },
  {
   "cell_type": "code",
   "execution_count": null,
   "id": "0325ede8-9255-4c9b-8188-635b68756af9",
   "metadata": {},
   "outputs": [],
   "source": [
    "#Importing all runoff data, OGGM is grouped by basin\n",
    "prcp_comps = {}\n",
    "\n",
    "for basin, ID in basins.items():\n",
    "    furl = f\"https://cluster.klima.uni-bremen.de/~lschuster/runs_oggm_v16/runs_2023.3/output/basins/w5e5_gcm_merged_bc_2000_2019/{ID}/components_W5E5_2000_2019_basin_{ID}.nc#mode=bytes\"\n",
    "    with xr.open_dataset(furl) as ds1:\n",
    "        prcp_comps[basin] = ds1"
   ]
  },
  {
   "cell_type": "code",
   "execution_count": null,
   "id": "0c807d10-297b-46bf-975f-e785d06bfc87",
   "metadata": {},
   "outputs": [],
   "source": [
    "prcp_comps['RHONE']"
   ]
  },
  {
   "cell_type": "code",
   "execution_count": null,
   "id": "00cc5591-eea1-4ab6-b85a-085370d31f8c",
   "metadata": {},
   "outputs": [],
   "source": [
    "# Aggregating basin totals\n",
    "variables_to_sum = ['liq_prcp_off_glacier', 'liq_prcp_on_glacier', 'snowfall_on_glacier', 'snowfall_off_glacier']\n",
    "summed_data = {}\n",
    "\n",
    "for basin in basins:\n",
    "    # Summing the variables along the rgi_id dimension\n",
    "    summed_data[basin] = prcp_comps[basin][variables_to_sum].sum(dim='rgi_id')\n",
    "\n",
    "    # Create a new variable containing the sum of all components\n",
    "    summed_data[basin]['total_precipitation'] = prcp_comps[basin]['liq_prcp_off_glacier'].sum(dim='rgi_id') + prcp_comps[basin]['liq_prcp_on_glacier'].sum(dim='rgi_id') + prcp_comps[basin]['snowfall_on_glacier'].sum(dim='rgi_id') + prcp_comps[basin]['snowfall_off_glacier'].sum(dim='rgi_id')"
   ]
  },
  {
   "cell_type": "code",
   "execution_count": null,
   "id": "89268e37-355e-48a5-9b5a-6be3484944fa",
   "metadata": {},
   "outputs": [],
   "source": [
    "#Calculating 2000-2020 mean annual precip\n",
    "for basin in basins:\n",
    "    summed_data[basin]['mean_total_precipitation'] = summed_data[basin]['total_precipitation'].mean(dim='time')"
   ]
  },
  {
   "cell_type": "code",
   "execution_count": null,
   "id": "23165ab7-db2c-49ec-bcf6-70e8ed401bad",
   "metadata": {},
   "outputs": [],
   "source": [
    "precipitation_list = []\n",
    "\n",
    "# Iterate over basins to extract the mean total precipitation\n",
    "for basin in basins:\n",
    "    # Extract the mean total precipitation for the current basin\n",
    "    mean_total_precipitation = summed_data[basin]['mean_total_precipitation'].values.item()*1e-3\n",
    "    precipitation_list.append(mean_total_precipitation)\n",
    "\n",
    "# Create a pandas Series with basin names as index and mean total precipitation as values\n",
    "precipitation_series = pd.Series(precipitation_list, index=basins)"
   ]
  },
  {
   "cell_type": "code",
   "execution_count": null,
   "id": "90e2195e-4876-408e-b42b-c4e4eb0b351c",
   "metadata": {},
   "outputs": [],
   "source": [
    "# Define the directory to save the CSV files\n",
    "output_dir = '/Users/finnwimberly/Desktop/Lizz Research/CSV Outputs/Precipitation Analysis/'\n",
    "\n",
    "fname = f\"precip_avgs_OG.csv\"\n",
    "\n",
    "# Define the full path of the output file\n",
    "output_path = os.path.join(output_dir, fname)\n",
    "\n",
    "# Save the DataFrame as CSV\n",
    "precipitation_series.to_csv(output_path, header=True, index=True)"
   ]
  },
  {
   "cell_type": "code",
   "execution_count": null,
   "id": "3cdb0bac-0edb-4581-a9c9-b7546c223c58",
   "metadata": {},
   "outputs": [],
   "source": []
  }
 ],
 "metadata": {
  "kernelspec": {
   "display_name": "Python 3 (ipykernel)",
   "language": "python",
   "name": "python3"
  },
  "language_info": {
   "codemirror_mode": {
    "name": "ipython",
    "version": 3
   },
   "file_extension": ".py",
   "mimetype": "text/x-python",
   "name": "python",
   "nbconvert_exporter": "python",
   "pygments_lexer": "ipython3",
   "version": "3.11.3"
  }
 },
 "nbformat": 4,
 "nbformat_minor": 5
}
