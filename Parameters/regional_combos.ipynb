{
 "cells": [
  {
   "cell_type": "code",
   "execution_count": 1,
   "id": "a1642557-7a08-4973-b577-9c3e73875832",
   "metadata": {},
   "outputs": [],
   "source": [
    "import numpy as np\n",
    "import pandas as pd\n",
    "from datetime import date\n",
    "import collections\n",
    "import datetime\n",
    "import os\n",
    "import xarray as xr\n",
    "import csv\n",
    "\n",
    "## Generic the filepath to the main data folder\n",
    "fpath0 = '/Users/finnwimberly/Desktop/Lizz Research/CSV Outputs/Parameters/Regional Imports/'\n",
    "\n",
    "scenarios = ['ssp126','ssp245','ssp370','ssp585']\n",
    "\n",
    "RGIregions = ['RGI-01', 'RGI-02', 'RGI-06', 'RGI-08', 'RGI-10', 'RGI-11','RGI-12','RGI-13', \n",
    "              'RGI-15', 'RGI-16', 'RGI-17', 'RGI-18']"
   ]
  },
  {
   "cell_type": "markdown",
   "id": "b8f6a56d-5540-4954-a747-1b761b2dc8d6",
   "metadata": {},
   "source": [
    "Combining volume dataframes from all regions (for all SSPs):"
   ]
  },
  {
   "cell_type": "code",
   "execution_count": 2,
   "id": "b47a0583-e75b-4d1e-8790-27a0fb98c59b",
   "metadata": {},
   "outputs": [],
   "source": [
    "# Create an empty dictionary to store DataFrames for each SSP\n",
    "initial_volumes = {}\n",
    "\n",
    "for s, SSP in enumerate(scenarios):\n",
    "    single_region_volume = pd.DataFrame()  # Create an empty DataFrame for the current SSP\n",
    "    \n",
    "    for r, region in enumerate(RGIregions):\n",
    "        file = f\"Mean_Initial_Volume-{region}{SSP}.csv\"\n",
    "        temp_df = pd.read_csv(fpath0 + 'Mean Volumes/' + file, index_col=0)\n",
    "    \n",
    "        # Append the current temp_df to the combined_df\n",
    "        single_region_volume = pd.concat([single_region_volume, temp_df])\n",
    "\n",
    "    # Store the combined_df in the dictionary for each SSP\n",
    "    initial_volumes[SSP] = single_region_volume"
   ]
  },
  {
   "cell_type": "code",
   "execution_count": 3,
   "id": "76d5cfab-c259-4f2c-96ac-c8b3e6ba3ebd",
   "metadata": {},
   "outputs": [],
   "source": [
    "# Create an empty dictionary to store DataFrames for each SSP\n",
    "volume_loss = {}\n",
    "\n",
    "for s, SSP in enumerate(scenarios):\n",
    "    single_region_volume_loss = pd.DataFrame()  # Create an empty DataFrame for the current SSP\n",
    "    \n",
    "    for r, region in enumerate(RGIregions):\n",
    "        file = f\"Mean_Volume_Loss-{region}_{SSP}.csv\"\n",
    "        temp_df = pd.read_csv(fpath0 + 'Mean Volumes/' + file, index_col=0)\n",
    "    \n",
    "        # Append the current temp_df to the combined_df\n",
    "        single_region_volume_loss = pd.concat([single_region_volume_loss, temp_df])\n",
    "\n",
    "    # Store the combined_df in the dictionary for each SSP\n",
    "    volume_loss[SSP] = single_region_volume_loss"
   ]
  },
  {
   "cell_type": "code",
   "execution_count": 4,
   "id": "ed49bd15-f781-409d-a355-ad559fd8a44f",
   "metadata": {},
   "outputs": [],
   "source": [
    "#Saving dfs as CSVs\n",
    "output_dir = '/Users/finnwimberly/Desktop/Lizz Research/CSV Outputs/Parameters/'\n",
    "\n",
    "for SSP in scenarios:\n",
    "    fname = f\"Mean_Initial_Volumes_{SSP}.csv\"\n",
    "\n",
    "    # Define the full path of the output file\n",
    "    output_path = os.path.join(output_dir, fname)\n",
    "\n",
    "    # Save the DataFrame as CSV\n",
    "    initial_volumes[SSP].to_csv(output_path, header=True, index=True)"
   ]
  },
  {
   "cell_type": "code",
   "execution_count": 5,
   "id": "9f67c955-9401-4ee6-a170-b16a348c3b67",
   "metadata": {},
   "outputs": [],
   "source": [
    "output_dir = '/Users/finnwimberly/Desktop/Lizz Research/CSV Outputs/Parameters/'\n",
    "\n",
    "for SSP in scenarios:\n",
    "    fname = f\"Mean_Volume_Loss_{SSP}.csv\"\n",
    "\n",
    "    # Define the full path of the output file\n",
    "    output_path = os.path.join(output_dir, fname)\n",
    "\n",
    "    # Save the DataFrame as CSV\n",
    "    volume_loss[SSP].to_csv(output_path, header=True, index=True)"
   ]
  },
  {
   "cell_type": "markdown",
   "id": "4fb2d7db-298a-4efa-ba66-52573ebb9da1",
   "metadata": {},
   "source": [
    "Combining number of glaciers dfs from all regions:"
   ]
  },
  {
   "cell_type": "code",
   "execution_count": 6,
   "id": "e3ecc445-7f80-4b30-bdeb-f0cc49fa09a9",
   "metadata": {},
   "outputs": [],
   "source": [
    "# Create an empty dictionary to store DataFrames for each SSP\n",
    "\n",
    "combined_region_glaciers  = pd.DataFrame()  # Create an empty DataFrame for the current SSP\n",
    "    \n",
    "for r, region in enumerate(RGIregions):\n",
    "    file = f\"#glaciers-{region}.csv\"\n",
    "    temp_df = pd.read_csv(fpath0 + 'Number of Glaciers/' + file, index_col=0)\n",
    "\n",
    "    # Append the current temp_df to the combined_df\n",
    "    combined_region_glaciers = pd.concat([combined_region_glaciers, temp_df])\n",
    "\n",
    "# Store the combined_df in the dictionary for each SSP\n",
    "number_glaciers = combined_region_glaciers\n",
    "\n",
    "# Sort the index alphabetically\n",
    "number_glaciers = number_glaciers.sort_index()"
   ]
  },
  {
   "cell_type": "code",
   "execution_count": 7,
   "id": "959057c7-4784-429b-bedd-e1ff7ff45142",
   "metadata": {},
   "outputs": [],
   "source": [
    "output_dir = '/Users/finnwimberly/Desktop/Lizz Research/CSV Outputs/Parameters/'\n",
    "\n",
    "for SSP in scenarios:\n",
    "    fname = f\"#glaciers.csv\"\n",
    "\n",
    "    # Define the full path of the output file\n",
    "    output_path = os.path.join(output_dir, fname)\n",
    "\n",
    "    # Save the DataFrame as CSV\n",
    "    number_glaciers.to_csv(output_path, header=True, index=True)"
   ]
  },
  {
   "cell_type": "code",
   "execution_count": null,
   "id": "43953752-5def-4c9d-a846-77b3edf6d39c",
   "metadata": {},
   "outputs": [],
   "source": []
  }
 ],
 "metadata": {
  "kernelspec": {
   "display_name": "Python 3 (ipykernel)",
   "language": "python",
   "name": "python3"
  },
  "language_info": {
   "codemirror_mode": {
    "name": "ipython",
    "version": 3
   },
   "file_extension": ".py",
   "mimetype": "text/x-python",
   "name": "python",
   "nbconvert_exporter": "python",
   "pygments_lexer": "ipython3",
   "version": "3.11.3"
  }
 },
 "nbformat": 4,
 "nbformat_minor": 5
}
