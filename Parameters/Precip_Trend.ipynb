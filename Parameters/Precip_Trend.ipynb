{
 "cells": [
  {
   "cell_type": "code",
   "execution_count": 149,
   "id": "6c5a4aeb-4706-45e9-a301-677f8e098577",
   "metadata": {},
   "outputs": [],
   "source": [
    "import numpy as np\n",
    "import pandas as pd\n",
    "from datetime import date\n",
    "import collections\n",
    "import datetime\n",
    "import os\n",
    "import xarray as xr\n",
    "import csv\n",
    "\n",
    "## Generic the filepath to the main data folder\n",
    "fpath0 = '/Users/finnwimberly/Library/CloudStorage/GoogleDrive-fwimberly@middlebury.edu/My Drive/'\n",
    "fpath1 = 'Lizz Research Stuff/CSV Outputs/Initial Areas/Results_PET_PREC/'\n",
    "\n",
    "modelnames = ['BCC.BCC-CSM2-MR', 'MPI-M.MPI-ESM1-2-HR', 'MRI.MRI-ESM2-0', 'NCAR.CESM2-WACCM']\n",
    "\n",
    "scenarios = ['Ssp2p6', 'Ssp4p5', 'Ssp7p0', 'Ssp8p5']\n",
    "\n",
    "basins = {'RHINE':'6242', 'RHONE':'6243','PO':'6241', 'DANUBE':'6202', 'TITICACA':'3912', 'SANTA':'3425', \n",
    "            'OCONA':'3418', 'MAJES':'3416', 'MAGDALENA':'3227', 'AMAZON':'3203', 'YELCHO':'3429', \n",
    "            'VALDIVIA':'3428', 'SERRANO':'3426', 'RAPEL':'3423', 'PUELO':'3422', 'PASCUA':'3420', \n",
    "            'PALENA':'3419', 'HUASCO':'3412', 'COPIAPO':'3409', 'CISNES':'3408', 'BIOBIO':'3405', 'BAKER':'3404',\n",
    "            'AZOPARDO':'3403', 'AISEN':'3401', 'SANTA CRUZ':'3244', 'NEGRO':'3232', 'COLORADO':'3212', \n",
    "            'CHICO':'3209', 'TORNEALVEN':'6255', 'THJORSA':'6254', 'OLFUSA':'6237', 'LULEALVEN':'6227', \n",
    "            'KUBAN':'6223', 'KALIXALVEN':'6219', 'GLOMAA':'6213', 'DRAMSELVA':'6209', 'SVARTA':'6110', \n",
    "            'LAGARFLJOT':'6104', 'JOKULSA A FJOLLUM':'6101', 'CLUTHA':'5406', 'YUKON':'4435', 'TAKU':'4431', \n",
    "             'SUSITNA':'4430','STIKINE':'4428', 'SKEENA':'4427','SKAGIT':'4426','NUSHAGAK':'4418','NASS':'4416',\n",
    "            'KUSKOKWIM':'4414','FRASER':'4410', 'COPPER':'4408', 'COLUMBIA':'4406', 'ALSEK':'4401', 'NELSON':'4125', \n",
    "              'MACKENZIE':'4123','COLVILLE':'4110', 'YSYK-KOL':'2919', 'UVS NUUR':'2918', 'TARIM HE':'2914', \n",
    "              'TALAS':'2913', 'LAKE BALKHASH':'2910','HAR US NUUR':'2909', 'CHUY':'2905', 'ARAL SEA':'2902', \n",
    "              'YELLOW RIVER':'2434', 'MEKONG':'2421', 'KAMCHATKA':'2413', 'SALWEEN':'2319', 'IRRAWADDY':'2310', \n",
    "              'INDUS':'2309', 'GANGES':'2306','BRAHMAPUTRA':'2302', 'OB':'2108', 'INDIGIRKA':'2103','YANGTZE' : '2433'}"
   ]
  },
  {
   "cell_type": "code",
   "execution_count": 150,
   "id": "c725d859-8e8b-4afb-9ed0-e9fcb953ac4e",
   "metadata": {},
   "outputs": [],
   "source": [
    "#Loading in files\n",
    "precip = {}\n",
    "for m, model in enumerate(modelnames):\n",
    "    precip[model[0:3]] = {}\n",
    "    for s, SSP in enumerate(scenarios):\n",
    "        precip[model[0:3]][SSP] = np.loadtxt(fpath0 + fpath1 + model + '_PREC_' + SSP + '.txt')"
   ]
  },
  {
   "cell_type": "code",
   "execution_count": 151,
   "id": "c87f5072-e262-4f0c-9c26-af1dc80e83ee",
   "metadata": {},
   "outputs": [],
   "source": [
    "# Create new index using pandas date_range function\n",
    "start_date = datetime.date(1900, 1, 1)\n",
    "end_date = datetime.date(2100, 12, 1)\n",
    "timesteps = pd.date_range(start_date, end_date, freq='MS').strftime('%Y-%m').tolist()\n",
    "\n",
    "# Apply new index and datetime conversion\n",
    "for m, model in enumerate(modelnames):\n",
    "    for s, SSP in enumerate(scenarios):\n",
    "        precip[model[0:3]][SSP] = pd.DataFrame(precip[model[0:3]][SSP])\n",
    "        precip[model[0:3]][SSP].index = basins\n",
    "        precip[model[0:3]][SSP].columns = timesteps"
   ]
  },
  {
   "cell_type": "code",
   "execution_count": 152,
   "id": "ae4e55c5-5c69-4708-9e21-7517a6c56c37",
   "metadata": {},
   "outputs": [],
   "source": [
    "#Selecting only the 21st century and resampling to annual\n",
    "start_2000 = pd.to_datetime(\"2000-01-01\")\n",
    "end_2100 = pd.to_datetime(\"2100-12-31\")\n",
    "precip_2000_2100 = {}\n",
    "for m, model in enumerate(modelnames):\n",
    "    precip_2000_2100[model[0:3]] = {}\n",
    "    for s, SSP in enumerate(scenarios):\n",
    "        columns_2000_2100 = [col for col in precip[model[0:3]][SSP].columns if start_2000 <= pd.to_datetime(col) <= end_2100]\n",
    "        temp_df = pd.DataFrame(precip[model[0:3]][SSP][columns_2000_2100])\n",
    "        temp_df.columns = pd.to_datetime(temp_df.columns)   #Not redundant... somehow datetime is lost?\n",
    "        precip_2000_2100[model[0:3]][SSP] = temp_df.resample('Y', axis=1).sum()"
   ]
  },
  {
   "cell_type": "code",
   "execution_count": 167,
   "id": "5f480480-2578-44f3-beea-398bac2c79ac",
   "metadata": {},
   "outputs": [],
   "source": [
    "from scipy.stats import linregress\n",
    "\n",
    "years = np.arange(2000, 2101)\n",
    "\n",
    "precip_trend = {}\n",
    "\n",
    "for m, model in enumerate(modelnames):\n",
    "    precip_trend[model[0:3]] = {}\n",
    "    for s, SSP in enumerate(scenarios):\n",
    "        precip_trend[model[0:3]][SSP] = {}\n",
    "        for basin in basins:\n",
    "            data = precip_2000_2100[model[0:3]][SSP].loc[basin]\n",
    "            \n",
    "            # Perform linear regression\n",
    "            slope, intercept, r_value, p_value, std_err = linregress(years, data)\n",
    "\n",
    "            precip_trend[model[0:3]][SSP][basin] = slope"
   ]
  },
  {
   "cell_type": "code",
   "execution_count": 200,
   "id": "207a1c4e-fc1a-4998-9a5c-20db2e2c3c13",
   "metadata": {},
   "outputs": [],
   "source": [
    "avg_precip_trend = {}  # Create a dictionary to store the average trends for each basin\n",
    "\n",
    "for basin in basins:\n",
    "    sum_trends = 0  # Initialize the average trend for the current basin\n",
    "    avg_trend = 0\n",
    "    for m, model in enumerate(modelnames):\n",
    "        for s, SSP in enumerate(scenarios):\n",
    "            if basin in precip_trend[model[0:3]][SSP]:\n",
    "                sum_trends += precip_trend[model[0:3]][SSP][basin]\n",
    "\n",
    "        avg_trend = sum_trends / (len(scenarios) * len(modelnames)) # Calculate the average trend\n",
    "        avg_precip_trend[basin] = avg_trend  # Store the average trend in the dictionary"
   ]
  },
  {
   "cell_type": "code",
   "execution_count": 207,
   "id": "5433c0d9-9382-4654-9c3e-ac232908a040",
   "metadata": {},
   "outputs": [],
   "source": [
    "#Combining our results into a single dataframe\n",
    "out_df = pd.DataFrame.from_dict(avg_precip_trend, orient='index', columns=['Average Precipitation Trend'])\n",
    "\n",
    "# Define the directory to save the CSV files\n",
    "output_dir = '/Users/finnwimberly/Desktop/Lizz Research/CSV Outputs/Parameters/'\n",
    "\n",
    "fname = f\"Precip_Trend_Avg.csv\"\n",
    "\n",
    "# Define the full path of the output file\n",
    "output_path = os.path.join(output_dir, fname)\n",
    "\n",
    "# Save the DataFrame as CSV\n",
    "out_df.to_csv(output_path, header=True, index=True)"
   ]
  },
  {
   "cell_type": "code",
   "execution_count": null,
   "id": "83858e6c-3f71-496e-95c4-e36f2f3bdbac",
   "metadata": {},
   "outputs": [],
   "source": []
  }
 ],
 "metadata": {
  "kernelspec": {
   "display_name": "Python 3 (ipykernel)",
   "language": "python",
   "name": "python3"
  },
  "language_info": {
   "codemirror_mode": {
    "name": "ipython",
    "version": 3
   },
   "file_extension": ".py",
   "mimetype": "text/x-python",
   "name": "python",
   "nbconvert_exporter": "python",
   "pygments_lexer": "ipython3",
   "version": "3.11.3"
  }
 },
 "nbformat": 4,
 "nbformat_minor": 5
}
