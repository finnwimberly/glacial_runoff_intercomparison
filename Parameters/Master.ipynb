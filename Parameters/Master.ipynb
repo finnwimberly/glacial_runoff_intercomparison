{
 "cells": [
  {
   "cell_type": "code",
   "execution_count": 61,
   "id": "250b269e-1024-4521-af02-22c78dc29f6f",
   "metadata": {},
   "outputs": [],
   "source": [
    "import numpy as np\n",
    "import pandas as pd\n",
    "from datetime import date\n",
    "import collections\n",
    "import datetime\n",
    "import os\n",
    "import xarray as xr\n",
    "import csv\n",
    "\n",
    "## Generic the filepath to the main data folder\n",
    "fpath0 = '/Users/finnwimberly/Desktop/Lizz Research/CSV Outputs/Parameters/'\n",
    "\n",
    "scenarios = ['ssp126','ssp245','ssp370','ssp585']\n",
    "\n",
    "gmodels = ['GloGEM', 'PyGEM', 'OGGM']\n",
    "\n",
    "parameters = ['Aridity_Index_Avg', 'Precip_Trend_Avg', 'GlacierAreaFrac', 'Mean_Volume_Loss', 'Mean_Initial_Volumes', '#glaciers']"
   ]
  },
  {
   "cell_type": "markdown",
   "id": "fbd16bbf-cdd6-4d58-8b7c-c1e4bf1d6b4b",
   "metadata": {},
   "source": [
    "### Reading in:"
   ]
  },
  {
   "cell_type": "code",
   "execution_count": 68,
   "id": "f1b35422-e0c7-404d-9c3e-576ee4748eb6",
   "metadata": {},
   "outputs": [],
   "source": [
    "gmodel_parameters = {}\n",
    "\n",
    "for gmodel in gmodels:\n",
    "    # Initialize an empty list to store DataFrames for each parameter and scenario combination\n",
    "    combined_dfs = []\n",
    "\n",
    "    for parameter in parameters:\n",
    "        if parameter in ['Aridity_Index_Avg', 'Precip_Trend_Avg']:\n",
    "            # Read the CSV for the common parameters (not model-specific)\n",
    "            fname = f\"{parameter}.csv\"\n",
    "            temp_df = pd.read_csv(fpath0 + fname, index_col=0)\n",
    "            # Rename the column to the parameter name\n",
    "            temp_df.rename(columns={0: parameter}, inplace=True)\n",
    "            combined_dfs.append(temp_df)\n",
    "        elif parameter in ['Mean_Volume_Loss', 'Mean_Initial_Volumes']:\n",
    "            for SSP in scenarios:\n",
    "                fname = f\"{parameter}_{SSP}.csv\"\n",
    "                temp_df = pd.read_csv(fpath0 + fname, index_col=0)\n",
    "                # Select the column for the current glacier model\n",
    "                col_name = f\"{parameter}_{SSP}\"\n",
    "                temp_df = temp_df[[gmodel]]\n",
    "                temp_df.rename(columns={gmodel: col_name}, inplace=True)\n",
    "                combined_dfs.append(temp_df)\n",
    "        else:\n",
    "            fname = f\"{parameter}.csv\"\n",
    "            temp_df = pd.read_csv(fpath0 + fname, index_col=0)\n",
    "            # Select the column for the current glacier model\n",
    "            col_name = f\"{parameter}\"\n",
    "            temp_df = temp_df[[gmodel]]\n",
    "            temp_df.rename(columns={gmodel: col_name}, inplace=True)\n",
    "            combined_dfs.append(temp_df)\n",
    "    \n",
    "    # Concatenate all the DataFrames in the list\n",
    "    combined_df = pd.concat(combined_dfs, axis=1)\n",
    "\n",
    "    # Set a title above the column indexes\n",
    "    combined_df.columns.name = gmodel\n",
    "\n",
    "    # Store the combined_df in the dictionary using the glacier model as the key\n",
    "    gmodel_parameters[gmodel] = combined_df\n",
    "\n",
    "    # Rename the aridity_index column name \n",
    "    gmodel_parameters[gmodel].columns = gmodel_parameters[gmodel].columns.map(lambda x: x if x != '0' else 'Aridity_Index_Avg')\n"
   ]
  },
  {
   "cell_type": "code",
   "execution_count": 67,
   "id": "cea9cc01-1017-4d5d-aea3-36bb6579f885",
   "metadata": {},
   "outputs": [],
   "source": [
    "#Saving dfs as CSVs\n",
    "output_dir = '/Users/finnwimberly/Desktop/Lizz Research/CSV Outputs/Parameters/MASTERS/'\n",
    "\n",
    "for gmodel in gmodels:\n",
    "    fname = f\"MASTER_{gmodel}.csv\"\n",
    "\n",
    "    # Define the full path of the output file\n",
    "    output_path = os.path.join(output_dir, fname)\n",
    "\n",
    "    # Save the DataFrame as CSV\n",
    "    gmodel_parameters[gmodel].to_csv(output_path, header=True, index=True)"
   ]
  },
  {
   "cell_type": "code",
   "execution_count": null,
   "id": "0e64164c-786b-490a-97c0-71a2eecdf0c3",
   "metadata": {},
   "outputs": [],
   "source": []
  }
 ],
 "metadata": {
  "kernelspec": {
   "display_name": "Python 3 (ipykernel)",
   "language": "python",
   "name": "python3"
  },
  "language_info": {
   "codemirror_mode": {
    "name": "ipython",
    "version": 3
   },
   "file_extension": ".py",
   "mimetype": "text/x-python",
   "name": "python",
   "nbconvert_exporter": "python",
   "pygments_lexer": "ipython3",
   "version": "3.9.13"
  }
 },
 "nbformat": 4,
 "nbformat_minor": 5
}
