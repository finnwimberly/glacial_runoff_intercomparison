{
 "cells": [
  {
   "cell_type": "code",
   "execution_count": 2,
   "id": "705b7adf-b0e4-4b46-b5f7-a3aff00cffc6",
   "metadata": {},
   "outputs": [],
   "source": [
    "import numpy as np\n",
    "import pandas as pd\n",
    "from datetime import date\n",
    "import collections\n",
    "import datetime\n",
    "import os\n",
    "import xarray as xr\n",
    "import csv\n",
    "\n",
    "## Generic the filepath to the main data folder\n",
    "fpath0 = '/Users/finnwimberly/Library/CloudStorage/GoogleDrive-fwimberly@middlebury.edu/My Drive/'\n",
    "fpath1 = 'Lizz Research Stuff/CSV Outputs/'"
   ]
  },
  {
   "cell_type": "code",
   "execution_count": 3,
   "id": "9e404c9a-bc78-48c9-b3b2-d8d15b87f16e",
   "metadata": {},
   "outputs": [],
   "source": [
    "#Loading in total Basin area data\n",
    "from scipy.io import loadmat\n",
    "BasinAreas = loadmat(fpath0 + fpath1 + 'BasinArea.mat')"
   ]
  },
  {
   "cell_type": "code",
   "execution_count": 10,
   "id": "3c563fed-744b-4fcd-9d45-f8fa54aec4f5",
   "metadata": {},
   "outputs": [],
   "source": [
    "#Creating indexed df\n",
    "basin_areas = BasinAreas['BasinArea']\n",
    "basin_names = BasinAreas['BasinNam']\n",
    "basin_name_list = [name[1][0] for name in basin_names]\n",
    "\n",
    "TotalBasinAreas = pd.DataFrame({'Basin Area': basin_areas.squeeze()}, index=basin_name_list)\n",
    "TotalBasinAreas = TotalBasinAreas.rename(index={'ISSYK-KUL': 'YSYK-KOL', 'LAGARFLIOT' : 'LAGARFLJOT'}).sort_index() #Same Basins"
   ]
  },
  {
   "cell_type": "code",
   "execution_count": 12,
   "id": "dc030c63-b8c2-46bb-a1b5-186db765047f",
   "metadata": {},
   "outputs": [],
   "source": [
    "#Loading in total glaciated area data\n",
    "file_path = fpath0+fpath1+'Initial Areas/ALL BASINS/InitialAreas_ALL.csv'\n",
    "GlaciatedBasinAreas = pd.read_csv(file_path, index_col=0)"
   ]
  },
  {
   "cell_type": "code",
   "execution_count": 13,
   "id": "be8d2e04-1476-49d4-a20f-aef2effe7c06",
   "metadata": {},
   "outputs": [],
   "source": [
    "#Creating glacier area fraction dataframe\n",
    "total_area = TotalBasinAreas['Basin Area']\n",
    "GlacierAreaFrac = GlaciatedBasinAreas[['GloGEM', 'OGGM', 'PyGEM']].div(total_area, axis=0)"
   ]
  },
  {
   "cell_type": "code",
   "execution_count": 14,
   "id": "3bc6e8fb-8038-49cf-b216-c85fa50fa2f7",
   "metadata": {},
   "outputs": [
    {
     "data": {
      "text/html": [
       "<div>\n",
       "<style scoped>\n",
       "    .dataframe tbody tr th:only-of-type {\n",
       "        vertical-align: middle;\n",
       "    }\n",
       "\n",
       "    .dataframe tbody tr th {\n",
       "        vertical-align: top;\n",
       "    }\n",
       "\n",
       "    .dataframe thead th {\n",
       "        text-align: right;\n",
       "    }\n",
       "</style>\n",
       "<table border=\"1\" class=\"dataframe\">\n",
       "  <thead>\n",
       "    <tr style=\"text-align: right;\">\n",
       "      <th></th>\n",
       "      <th>GloGEM</th>\n",
       "      <th>OGGM</th>\n",
       "      <th>PyGEM</th>\n",
       "    </tr>\n",
       "    <tr>\n",
       "      <th>Basin</th>\n",
       "      <th></th>\n",
       "      <th></th>\n",
       "      <th></th>\n",
       "    </tr>\n",
       "  </thead>\n",
       "  <tbody>\n",
       "    <tr>\n",
       "      <th>AISEN</th>\n",
       "      <td>0.012536</td>\n",
       "      <td>0.012809</td>\n",
       "      <td>0.012519</td>\n",
       "    </tr>\n",
       "    <tr>\n",
       "      <th>ALSEK</th>\n",
       "      <td>0.195899</td>\n",
       "      <td>0.200041</td>\n",
       "      <td>0.195932</td>\n",
       "    </tr>\n",
       "    <tr>\n",
       "      <th>AMAZON</th>\n",
       "      <td>0.000235</td>\n",
       "      <td>0.000250</td>\n",
       "      <td>0.000235</td>\n",
       "    </tr>\n",
       "    <tr>\n",
       "      <th>ARAL SEA</th>\n",
       "      <td>0.009124</td>\n",
       "      <td>0.009697</td>\n",
       "      <td>0.009149</td>\n",
       "    </tr>\n",
       "    <tr>\n",
       "      <th>AZOPARDO</th>\n",
       "      <td>0.008517</td>\n",
       "      <td>0.008805</td>\n",
       "      <td>0.008529</td>\n",
       "    </tr>\n",
       "    <tr>\n",
       "      <th>...</th>\n",
       "      <td>...</td>\n",
       "      <td>...</td>\n",
       "      <td>...</td>\n",
       "    </tr>\n",
       "    <tr>\n",
       "      <th>YANGTZE</th>\n",
       "      <td>0.000943</td>\n",
       "      <td>0.000996</td>\n",
       "      <td>0.000978</td>\n",
       "    </tr>\n",
       "    <tr>\n",
       "      <th>YELCHO</th>\n",
       "      <td>0.020980</td>\n",
       "      <td>0.021752</td>\n",
       "      <td>0.020981</td>\n",
       "    </tr>\n",
       "    <tr>\n",
       "      <th>YELLOW RIVER</th>\n",
       "      <td>0.000184</td>\n",
       "      <td>0.000191</td>\n",
       "      <td>0.000184</td>\n",
       "    </tr>\n",
       "    <tr>\n",
       "      <th>YSYK-KOL</th>\n",
       "      <td>0.023172</td>\n",
       "      <td>0.023454</td>\n",
       "      <td>0.023171</td>\n",
       "    </tr>\n",
       "    <tr>\n",
       "      <th>YUKON</th>\n",
       "      <td>0.012003</td>\n",
       "      <td>0.012138</td>\n",
       "      <td>0.012041</td>\n",
       "    </tr>\n",
       "  </tbody>\n",
       "</table>\n",
       "<p>75 rows × 3 columns</p>\n",
       "</div>"
      ],
      "text/plain": [
       "                GloGEM      OGGM     PyGEM\n",
       "Basin                                     \n",
       "AISEN         0.012536  0.012809  0.012519\n",
       "ALSEK         0.195899  0.200041  0.195932\n",
       "AMAZON        0.000235  0.000250  0.000235\n",
       "ARAL SEA      0.009124  0.009697  0.009149\n",
       "AZOPARDO      0.008517  0.008805  0.008529\n",
       "...                ...       ...       ...\n",
       "YANGTZE       0.000943  0.000996  0.000978\n",
       "YELCHO        0.020980  0.021752  0.020981\n",
       "YELLOW RIVER  0.000184  0.000191  0.000184\n",
       "YSYK-KOL      0.023172  0.023454  0.023171\n",
       "YUKON         0.012003  0.012138  0.012041\n",
       "\n",
       "[75 rows x 3 columns]"
      ]
     },
     "execution_count": 14,
     "metadata": {},
     "output_type": "execute_result"
    }
   ],
   "source": [
    "GlacierAreaFrac"
   ]
  },
  {
   "cell_type": "code",
   "execution_count": 15,
   "id": "d47f60f3-fb40-499f-b806-5c31bd56bc0c",
   "metadata": {},
   "outputs": [],
   "source": [
    "#Exporting as a CSV to use for larger basins where reading in both discharge and area crashes my laptop\n",
    "output_dir = '/Users/finnwimberly/Desktop/Lizz Research/CSV Outputs/Area/All Basins/'\n",
    "\n",
    "fname = 'GlacierAreaFrac.csv'\n",
    "\n",
    "# Define the full path of the output file\n",
    "output_path = os.path.join(output_dir, fname)\n",
    "\n",
    "# Save the DataFrame as CSV\n",
    "GlacierAreaFrac.to_csv(output_path, header=True, index=True)"
   ]
  }
 ],
 "metadata": {
  "kernelspec": {
   "display_name": "Python 3 (ipykernel)",
   "language": "python",
   "name": "python3"
  },
  "language_info": {
   "codemirror_mode": {
    "name": "ipython",
    "version": 3
   },
   "file_extension": ".py",
   "mimetype": "text/x-python",
   "name": "python",
   "nbconvert_exporter": "python",
   "pygments_lexer": "ipython3",
   "version": "3.11.3"
  }
 },
 "nbformat": 4,
 "nbformat_minor": 5
}
