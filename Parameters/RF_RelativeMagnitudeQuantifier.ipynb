{
 "cells": [
  {
   "cell_type": "code",
   "execution_count": 6,
   "id": "419c8319-35cc-4601-8fe5-338ab34b3652",
   "metadata": {},
   "outputs": [],
   "source": [
    "import numpy as np\n",
    "import pandas as pd\n",
    "import matplotlib.pyplot as plt\n",
    "from matplotlib import cm\n",
    "from datetime import date\n",
    "import collections\n",
    "import datetime\n",
    "import os\n",
    "import xarray as xr\n",
    "from cycler import cycler\n",
    "import matplotlib.patches as mpatches"
   ]
  },
  {
   "cell_type": "code",
   "execution_count": 7,
   "id": "d2f849bb-58c3-4b67-987c-b85e32ead902",
   "metadata": {},
   "outputs": [],
   "source": [
    "scenarios = ['ssp126','ssp245','ssp370','ssp585']\n",
    "\n",
    "modelnames = ['BCC-CSM2-MR', 'CESM2', 'CESM2-WACCM', 'EC-Earth3', 'EC-Earth3-Veg', 'FGOALS-f3-L', 'GFDL-ESM4', \n",
    "                  'INM-CM4-8', 'INM-CM5-0', 'MPI-ESM1-2-HR', 'MRI-ESM2-0', 'NorESM2-MM']\n",
    "\n",
    "basins = {'RHINE':'6242', 'RHONE':'6243','PO':'6241', 'DANUBE':'6202', 'TITICACA':'3912', 'SANTA':'3425', \n",
    "            'OCONA':'3418', 'MAJES':'3416', 'MAGDALENA':'3227', 'AMAZON':'3203', 'YELCHO':'3429', \n",
    "            'VALDIVIA':'3428', 'SERRANO':'3426', 'RAPEL':'3423', 'PUELO':'3422', 'PASCUA':'3420', \n",
    "            'PALENA':'3419', 'HUASCO':'3412', 'COPIAPO':'3409', 'CISNES':'3408', 'BIOBIO':'3405', 'BAKER':'3404',\n",
    "            'AZOPARDO':'3403', 'AISEN':'3401', 'SANTA CRUZ':'3244', 'NEGRO':'3232', 'COLORADO':'3212', \n",
    "            'CHICO':'3209', 'TORNEALVEN':'6255', 'THJORSA':'6254', 'OLFUSA':'6237', 'LULEALVEN':'6227', \n",
    "            'KUBAN':'6223', 'KALIXALVEN':'6219', 'GLOMAA':'6213', 'DRAMSELVA':'6209', 'SVARTA':'6110', \n",
    "            'LAGARFLJOT':'6104', 'JOKULSA A FJOLLUM':'6101', 'CLUTHA':'5406', 'YUKON':'4435', 'TAKU':'4431', \n",
    "             'SUSITNA':'4430','STIKINE':'4428', 'SKEENA':'4427','SKAGIT':'4426','NUSHAGAK':'4418','NASS':'4416',\n",
    "            'KUSKOKWIM':'4414','FRASER':'4410', 'COPPER':'4408', 'COLUMBIA':'4406', 'ALSEK':'4401', 'NELSON':'4125', \n",
    "              'MACKENZIE':'4123','COLVILLE':'4110', 'YSYK-KOL':'2919', 'UVS NUUR':'2918', 'TARIM HE':'2914', \n",
    "              'TALAS':'2913', 'LAKE BALKHASH':'2910','HAR US NUUR':'2909', 'CHUY':'2905', 'ARAL SEA':'2902', \n",
    "              'YELLOW RIVER':'2434', 'MEKONG':'2421', 'KAMCHATKA':'2413', 'SALWEEN':'2319', 'IRRAWADDY':'2310', \n",
    "              'INDUS':'2309', 'GANGES':'2306','BRAHMAPUTRA':'2302', 'OB':'2108', 'INDIGIRKA':'2103', 'YANGTZE' : '2433'}\n",
    "\n",
    "regions = ['RGI 01', 'RGI 02', 'RGI 06', 'RGI 08', 'RGI 10', 'RGI 11', 'RGI 12', \n",
    "           'RGI 13', 'RGI 15', 'RGI 16', 'RGI 17', 'RGI 18']\n",
    "\n",
    "gmodels = ['GloGEM', 'OGGM', 'PyGEM']\n",
    "\n",
    "fpath0 = '/Users/finnwimberly/Desktop/Lizz Research/CSV Outputs/'"
   ]
  },
  {
   "cell_type": "code",
   "execution_count": 8,
   "id": "55f6acee-4c5e-4d8b-a0b0-5eb689c2260c",
   "metadata": {},
   "outputs": [],
   "source": [
    "# Create new index using pandas date_range function\n",
    "start_date = datetime.date(2000, 1, 1)\n",
    "end_date = datetime.date(2100, 12, 1)\n",
    "new_indices = pd.date_range(start_date, end_date, freq='MS').strftime('%Y-%m').tolist()"
   ]
  },
  {
   "cell_type": "code",
   "execution_count": 9,
   "id": "0a294bb9-8fd6-440c-a4fa-0b57fc68d14b",
   "metadata": {},
   "outputs": [],
   "source": [
    "#Importing runoff data\n",
    "all_rf_data = {}\n",
    "all_rf_data_annual = {}\n",
    "\n",
    "for r, region in enumerate(regions):\n",
    "    fpath = fpath0 + 'Runoff/' + region + '/'\n",
    "    \n",
    "    for s, SSP in enumerate(scenarios):\n",
    "        if SSP not in all_rf_data:\n",
    "            all_rf_data[SSP] = {}\n",
    "            all_rf_data_annual[SSP] = {}\n",
    "        \n",
    "        for b, basin in enumerate(basins):\n",
    "            if basin not in all_rf_data[SSP]:\n",
    "                all_rf_data[SSP][basin] = {}\n",
    "                all_rf_data_annual[SSP][basin] = {}\n",
    "            \n",
    "            for m, GCM in enumerate(modelnames):\n",
    "                fname = f\"runoff_{GCM}_{SSP}_{basin}.csv\"\n",
    "                file_path = os.path.join(fpath, fname)  # Construct the full file path\n",
    "\n",
    "                if os.path.exists(file_path):\n",
    "                    try:\n",
    "                        temp_df = pd.read_csv(file_path, index_col=0)\n",
    "                        temp_df.index = new_indices\n",
    "                        temp_df.index = pd.to_datetime(new_indices)\n",
    "                        \n",
    "                        all_rf_data[SSP][basin][GCM] = temp_df\n",
    "                        all_rf_data_annual[SSP][basin][GCM] = temp_df.resample('A').sum()\n",
    "                    except FileNotFoundError:\n",
    "                        continue"
   ]
  },
  {
   "cell_type": "code",
   "execution_count": 10,
   "id": "7abc0757-c8c3-494f-9033-43e8c60d224a",
   "metadata": {},
   "outputs": [],
   "source": [
    "#Calculating our RMQ\n",
    "\n",
    "all_rf_w_mean = {}\n",
    "RMQ_annual = {}\n",
    "\n",
    "for s, SSP in enumerate(scenarios):\n",
    "    all_rf_w_mean[SSP] = {}\n",
    "    RMQ_annual[SSP] = {}\n",
    "    for b, basin in enumerate(basins):\n",
    "        all_rf_w_mean[SSP][basin] = {}\n",
    "        RMQ_annual[SSP][basin] = {}\n",
    "        for m, GCM in enumerate(modelnames):\n",
    "            original_df = all_rf_data_annual[SSP][basin][GCM]\n",
    "            \n",
    "            # Calculate the mean for each year across the models\n",
    "            mean_df = original_df.mean(axis=1)\n",
    "            mean_df = pd.DataFrame({'Mean': mean_df})\n",
    "\n",
    "            #Creating a new concatenated df\n",
    "            all_rf_w_mean[SSP][basin][GCM] = pd.concat([original_df, mean_df], axis = 1) \n",
    "            \n",
    "            RMQ_df = original_df.divide(mean_df['Mean'], axis=0)\n",
    "            RMQ_annual[SSP][basin][GCM] = RMQ_df"
   ]
  },
  {
   "cell_type": "code",
   "execution_count": 13,
   "id": "f1b8e7de-289d-4207-9ed1-faa64d10f834",
   "metadata": {},
   "outputs": [],
   "source": [
    "basin_names = []\n",
    "for basin, ID in basins.items():\n",
    "    basin_names.append(basin)\n",
    "\n",
    "RMQ = {}\n",
    "for s, SSP in enumerate(scenarios):\n",
    "    RMQ[SSP] = {}\n",
    "    for m, GCM in enumerate(modelnames):\n",
    "        RMQ_list = []  # List to store averages for each basin\n",
    "        for b, basin in enumerate(basins):\n",
    "            # Get the RMQ DataFrame for the current SSP, GCM, and basin\n",
    "            rmq_df = RMQ_annual[SSP][basin][GCM]\n",
    "            \n",
    "\n",
    "            # Calculate the average of annual values for the current basin\n",
    "            basin_average = rmq_df.mean()\n",
    "            RMQ_list.append(basin_average)\n",
    "            \n",
    "        \n",
    "        # Store the average values for the current SSP and GCM combination\n",
    "        RMQ[SSP][GCM] = pd.DataFrame(RMQ_list)\n",
    "        RMQ[SSP][GCM].index = basin_names"
   ]
  },
  {
   "cell_type": "code",
   "execution_count": 27,
   "id": "3cc3b04f-5e6e-4684-a685-a457ddfacf3f",
   "metadata": {},
   "outputs": [],
   "source": [
    "out_df = {}\n",
    "for s, SSP in enumerate(scenarios):\n",
    "    out_df[SSP] = {}\n",
    "    for m, GCM in enumerate(modelnames):\n",
    "        glo_values = RMQ[SSP][GCM]['GloGEM']\n",
    "        oggm_values = RMQ[SSP][GCM]['OGGM']\n",
    "        pygem_values = RMQ[SSP][GCM]['PyGEM']\n",
    "        \n",
    "\n",
    "        # Create a dictionary with values for the current basin\n",
    "        data = {\n",
    "            'GloGEM': glo_values,\n",
    "            'OGGM': oggm_values,\n",
    "            'PyGEM': pygem_values,\n",
    "        }\n",
    "                    \n",
    "        # Create a DataFrame from the list of basin data\n",
    "        out_df[SSP][GCM] = pd.DataFrame(data)  # Set the index as 'Basin'"
   ]
  },
  {
   "cell_type": "code",
   "execution_count": 32,
   "id": "fb891b9d-e164-4978-be97-5ef54d20ff6c",
   "metadata": {},
   "outputs": [
    {
     "data": {
      "text/plain": [
       "GloGEM    1.057973\n",
       "OGGM      1.123690\n",
       "PyGEM     0.818337\n",
       "Name: RHONE, dtype: float64"
      ]
     },
     "execution_count": 32,
     "metadata": {},
     "output_type": "execute_result"
    }
   ],
   "source": [
    "out_df[SSP]['CESM2'].loc['RHONE']"
   ]
  },
  {
   "cell_type": "code",
   "execution_count": 31,
   "id": "4363c8c3-e65f-4197-86fd-0f4727c307be",
   "metadata": {},
   "outputs": [
    {
     "data": {
      "text/plain": [
       "GloGEM    1.059942\n",
       "OGGM      1.116526\n",
       "PyGEM     0.823531\n",
       "Name: RHONE, dtype: float64"
      ]
     },
     "execution_count": 31,
     "metadata": {},
     "output_type": "execute_result"
    }
   ],
   "source": [
    "out_df[SSP]['BCC-CSM2-MR'].loc['RHONE']"
   ]
  },
  {
   "cell_type": "code",
   "execution_count": 30,
   "id": "bd4ddefd-72c8-4b7f-a1e2-3a0b9628c646",
   "metadata": {},
   "outputs": [],
   "source": [
    "output_dir = '/Users/finnwimberly/Desktop/Lizz Research/CSV Outputs/RMQ/'\n",
    "\n",
    "for SSP in out_df:\n",
    "    for GCM in out_df[SSP]:\n",
    "        fname = f\"RMQ{GCM}_{SSP}.csv\"\n",
    "\n",
    "        # Define the full path of the output file\n",
    "        output_path = os.path.join(output_dir, fname)\n",
    "\n",
    "        # Save the DataFrame as CSV\n",
    "        out_df[SSP][GCM].to_csv(output_path, header=True, index=True)"
   ]
  },
  {
   "cell_type": "code",
   "execution_count": null,
   "id": "cfd0678a-f441-452b-9e56-940c18d27f0e",
   "metadata": {},
   "outputs": [],
   "source": []
  }
 ],
 "metadata": {
  "kernelspec": {
   "display_name": "Python 3 (ipykernel)",
   "language": "python",
   "name": "python3"
  },
  "language_info": {
   "codemirror_mode": {
    "name": "ipython",
    "version": 3
   },
   "file_extension": ".py",
   "mimetype": "text/x-python",
   "name": "python",
   "nbconvert_exporter": "python",
   "pygments_lexer": "ipython3",
   "version": "3.11.3"
  }
 },
 "nbformat": 4,
 "nbformat_minor": 5
}
