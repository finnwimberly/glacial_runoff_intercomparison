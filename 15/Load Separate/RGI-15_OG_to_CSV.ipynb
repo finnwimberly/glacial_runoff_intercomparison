{
 "cells": [
  {
   "cell_type": "markdown",
   "id": "fba18362-cf12-4e9a-a15d-02a5af4a41c1",
   "metadata": {},
   "source": [
    "## Aggregation of OGGM Runoff"
   ]
  },
  {
   "cell_type": "code",
   "execution_count": 1,
   "id": "76c1bef6-018c-4fe5-b026-312368541c85",
   "metadata": {},
   "outputs": [],
   "source": [
    "import numpy as np\n",
    "import pandas as pd\n",
    "import matplotlib.pyplot as plt\n",
    "from matplotlib import cm\n",
    "from datetime import date\n",
    "import collections\n",
    "import datetime\n",
    "import os\n",
    "import xarray as xr"
   ]
  },
  {
   "cell_type": "code",
   "execution_count": 6,
   "id": "0b7b6cc0-6007-491d-b865-409bd4523cec",
   "metadata": {},
   "outputs": [],
   "source": [
    "#All of the climate models used\n",
    "modelnames_OG = ['BCC-CSM2-MR', 'CAMS-CSM1-0', 'CESM2', 'CESM2-WACCM', 'CMCC-CM2-SR5','EC-Earth3', \n",
    "                'EC-Earth3-Veg', 'FGOALS-f3-L', 'GFDL-ESM4', 'INM-CM4-8','INM-CM5-0', \n",
    "                 'MPI-ESM1-2-HR', 'MRI-ESM2-0', 'NorESM2-MM', 'TaiESM1']\n",
    "\n",
    "Alpine_basins = {'SALWEEN':'2319', 'IRRAWADDY':'2310', 'GANGES':'2306','BRAHMAPUTRA':'2302','YANGTZE' : '2433'}\n",
    "\n",
    "basins = ['SALWEEN', 'IRRAWADDY', 'GANGES', 'BRAHMAPUTRA', 'YANGTZE']\n",
    "\n",
    "SSPs = ['ssp126','ssp245','ssp370','ssp585']\n",
    "\n",
    "# CMCC-CM2-SR5 & TaiESM1 only hold values for ssp585––this is model list without those GCMS\n",
    "modelnames_OG_trimmed = ['BCC-CSM2-MR', 'CAMS-CSM1-0', 'CESM2', 'CESM2-WACCM', 'EC-Earth3', \n",
    "                         'EC-Earth3-Veg', 'FGOALS-f3-L', 'GFDL-ESM4', 'INM-CM4-8',\n",
    "                           'INM-CM5-0', 'MPI-ESM1-2-HR', 'MRI-ESM2-0', 'NorESM2-MM']\n",
    "\n",
    "#Generic filepath to navigate to Drive folder \n",
    "fpathOG1 = '/Users/finnwimberly/Library/CloudStorage/GoogleDrive-fwimberly@middlebury.edu/My Drive/'\n",
    "fpathOG2 = 'Lizz Research Stuff/Runoff-intercomparison/OGGM/lschuster/runs_2023.3/output/basins/'"
   ]
  },
  {
   "cell_type": "markdown",
   "id": "2d5393bb-e23c-4f2b-8a23-e30a7052d02f",
   "metadata": {},
   "source": [
    "### Loading/Processing Data"
   ]
  },
  {
   "cell_type": "code",
   "execution_count": 3,
   "id": "6fb54921-b070-41d7-a014-63faa88b3bb8",
   "metadata": {},
   "outputs": [],
   "source": [
    "#Importing all runoff data, OGGM is grouped by basin\n",
    "rf_ds = {}\n",
    "rf_ds_monthly = {}\n",
    "for basin, ID in Alpine_basins.items():\n",
    "    fpath_basin = 'gcm_from_2000_bc_2000_2019/{}/'.format(ID)\n",
    "    #print(f'{fpathOG1 + fpathOG2 + fpath_basin}*.nc')\n",
    "    with xr.open_mfdataset(f'{fpathOG1 + fpathOG2 + fpath_basin}*.nc') as ds1:\n",
    "        ds1 = ds1.runoff.load()\n",
    "    rf_ds[basin] = ds1\n",
    "    with xr.open_mfdataset(f'{fpathOG1 + fpathOG2 + fpath_basin}*.nc') as ds2:\n",
    "        ds_monthly = ds2.runoff_monthly.load()\n",
    "    rf_ds_monthly[basin] = ds_monthly"
   ]
  },
  {
   "cell_type": "code",
   "execution_count": 4,
   "id": "7a2a91a3-b915-4bae-851c-7a756dcd5cf8",
   "metadata": {},
   "outputs": [],
   "source": [
    "#Summing individual glacier runoff into basin totals and converting kg to km^3\n",
    "basin_rf_OG = {}\n",
    "basin_rf_monthly_OG = {}\n",
    "for basin, ID in Alpine_basins.items():\n",
    "    basin_rf_OG[basin] = rf_ds[basin].sum(dim = 'rgi_id') * 1e-12\n",
    "    basin_rf_monthly_OG[basin] = rf_ds_monthly[basin].sum(dim = 'rgi_id') * 1e-12"
   ]
  },
  {
   "cell_type": "code",
   "execution_count": 7,
   "id": "d6ba1faa-dbc0-416e-8340-4ca27ba43ebd",
   "metadata": {},
   "outputs": [],
   "source": [
    "#creating dict of GloPy format\n",
    "basin_sums_OG = {}\n",
    "basin_sums_monthly_OG = {}\n",
    "for s, SSP in enumerate(SSPs):\n",
    "    basin_sums_OG[SSP] = {}\n",
    "    basin_sums_monthly_OG[SSP] = {}\n",
    "    for b, basin in enumerate(basins):\n",
    "        basin_sums_OG[SSP][basin] = basin_rf_OG[basin].sel(scenario = SSP)\n",
    "        basin_sums_monthly_OG[SSP][basin] = basin_rf_monthly_OG[basin].sel(scenario = SSP)"
   ]
  },
  {
   "cell_type": "code",
   "execution_count": 8,
   "id": "85b39d14-b180-4d25-968e-c11423f879bf",
   "metadata": {},
   "outputs": [],
   "source": [
    "#Removing these GCMs for ALL SSPs--doing even 585 as these two are not included...\n",
    "#... in Glo or Py so not only makeds OOGM easier but maintains GCM consistency in analysis\n",
    "trimmed_basin_sums_OG = {}\n",
    "trimmed_basin_sums_monthly_OG = {}\n",
    "for s, SSP in enumerate(SSPs):\n",
    "    trimmed_basin_sums_OG[SSP] = {}\n",
    "    trimmed_basin_sums_monthly_OG[SSP] = {}\n",
    "    for b, basin in enumerate(basins):\n",
    "        trimmed_basin_sums_OG[SSP][basin] = xr.concat([basin_sums_OG[SSP][basin][0:4], basin_sums_OG[SSP][basin][5:-1]], dim='gcm')\n",
    "        trimmed_basin_sums_monthly_OG[SSP][basin] = xr.concat([basin_sums_monthly_OG[SSP][basin][0:4], basin_sums_monthly_OG[SSP][basin][5:-1]], dim='gcm')"
   ]
  },
  {
   "cell_type": "markdown",
   "id": "a73f3521-e00a-47b4-84b1-0ce3f15b938a",
   "metadata": {},
   "source": [
    "### CSV Readout"
   ]
  },
  {
   "cell_type": "code",
   "execution_count": 9,
   "id": "629ffed3-6df1-4168-8feb-c148e6a3a061",
   "metadata": {},
   "outputs": [],
   "source": [
    "## set up filename to reflect what you're writing out, possibly in a nested loop\n",
    "modelnames_all = ['BCC-CSM2-MR', 'CESM2', 'CESM2-WACCM', 'EC-Earth3', 'EC-Earth3-Veg', 'FGOALS-f3-L', 'GFDL-ESM4', \n",
    "                  'INM-CM4-8', 'INM-CM5-0', 'MPI-ESM1-2-HR', 'MRI-ESM2-0', 'NorESM2-MM']\n",
    "\n",
    "scenarios = ['ssp126','ssp245','ssp370','ssp585']\n",
    "\n",
    "basins = ['SALWEEN', 'IRRAWADDY', 'GANGES', 'BRAHMAPUTRA', 'YANGTZE']"
   ]
  },
  {
   "cell_type": "code",
   "execution_count": 10,
   "id": "68541fe3-211c-4517-9a04-f734deb228f7",
   "metadata": {},
   "outputs": [],
   "source": [
    "#Turning OGGM 2d time array into 1d df\n",
    "df = {}\n",
    "df_list = {}\n",
    "for s, SSP in enumerate(SSPs):\n",
    "    df[SSP] = {}\n",
    "    df_list[SSP] = {}\n",
    "    for b, basin in enumerate(basins):\n",
    "        df[SSP][basin] = {}\n",
    "        df_list[SSP][basin] = {}\n",
    "        for m, model in enumerate(modelnames_all):\n",
    "            df[SSP][basin][model] = {}\n",
    "            df_list[SSP][basin][model] = []\n",
    "            for n in range(101):\n",
    "                df[SSP][basin][model][2000+n] = pd.DataFrame(trimmed_basin_sums_monthly_OG[SSP][basin]. sel(gcm = model, time = 2000+n))\n",
    "                df_list[SSP][basin][model].append(df[SSP][basin][model][2000+n])\n",
    "                \n",
    "basin_sums_monthly_OG_df = {}\n",
    "for s, SSP in enumerate(SSPs):\n",
    "     basin_sums_monthly_OG_df[SSP] = {}\n",
    "     for b, basin in enumerate(basins):\n",
    "         basin_sums_monthly_OG_df[SSP][basin] = {}\n",
    "         for m, model in enumerate(modelnames_all):\n",
    "             basin_sums_monthly_OG_df[SSP][basin][model] = pd.concat(df_list[SSP][basin][model], axis = 0)"
   ]
  },
  {
   "cell_type": "code",
   "execution_count": 11,
   "id": "fcfa5c98-99ea-4bd9-aa6c-f0cd4421a03a",
   "metadata": {},
   "outputs": [],
   "source": [
    "# Create new index using pandas date_range function\n",
    "start_date = datetime.date(2000, 1, 1)\n",
    "end_date = datetime.date(2100, 12, 1)\n",
    "indices = pd.date_range(start_date, end_date, freq='MS').strftime('%Y-%m').tolist()\n",
    "\n",
    "#Creating dataframes of SSP, basin, and GCM containing all 3 global glacier models\n",
    "out_df = {}\n",
    "for s, SSP in enumerate(scenarios):\n",
    "    out_df[SSP] = {}\n",
    "    for b, basin in enumerate(basins):\n",
    "        out_df[SSP][basin] = {}\n",
    "        for m, model in enumerate(modelnames_all):\n",
    "            \n",
    "            oggm_values = basin_sums_monthly_OG_df[SSP][basin][model].values.flatten()\n",
    "            \n",
    "            out_df[SSP][basin][model] = pd.DataFrame(\n",
    "                {\n",
    "                    'OGGM': oggm_values,\n",
    "                },\n",
    "                index=indices\n",
    "            )"
   ]
  },
  {
   "cell_type": "code",
   "execution_count": 12,
   "id": "8cd8511d-1684-479a-b0be-af6124c36359",
   "metadata": {},
   "outputs": [],
   "source": [
    "# Define the directory to save the CSV files\n",
    "output_dir = '/Users/finnwimberly/Desktop/Lizz Research/CSV Outputs/Load Separate/RGI 15/OGGM/'\n",
    "\n",
    "for SSP in out_df:\n",
    "    for basin in out_df[SSP]:\n",
    "        for GCM in out_df[SSP][basin]:\n",
    "            fname = f\"runoff_{GCM}_{SSP}_{basin}.csv\"\n",
    "\n",
    "            # Define the full path of the output file\n",
    "            output_path = os.path.join(output_dir, fname)\n",
    "\n",
    "            # Save the DataFrame as CSV\n",
    "            out_df[SSP][basin][GCM].to_csv(output_path, header=True, index=True)"
   ]
  },
  {
   "cell_type": "code",
   "execution_count": null,
   "id": "1ec7f5e0-26f7-49de-9219-c152d23399f1",
   "metadata": {},
   "outputs": [],
   "source": []
  }
 ],
 "metadata": {
  "kernelspec": {
   "display_name": "Python 3 (ipykernel)",
   "language": "python",
   "name": "python3"
  },
  "language_info": {
   "codemirror_mode": {
    "name": "ipython",
    "version": 3
   },
   "file_extension": ".py",
   "mimetype": "text/x-python",
   "name": "python",
   "nbconvert_exporter": "python",
   "pygments_lexer": "ipython3",
   "version": "3.11.3"
  }
 },
 "nbformat": 4,
 "nbformat_minor": 5
}
