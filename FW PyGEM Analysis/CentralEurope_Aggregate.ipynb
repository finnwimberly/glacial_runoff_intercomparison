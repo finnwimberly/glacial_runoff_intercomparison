{
 "cells": [
  {
   "cell_type": "markdown",
   "id": "24175540-adcc-49e9-a2df-5ff8b1a6d954",
   "metadata": {},
   "source": [
    "## Aggregating Net Basin Runoff-PyGem"
   ]
  },
  {
   "cell_type": "markdown",
   "id": "b20f0c5c-ee2b-41ca-b492-7d5de1b6e6b9",
   "metadata": {},
   "source": [
    "This notebook imports all PyGEM runoff data for RGI region 11. Using Erik Homgren's function, we sort glaciers into major river basin and sum their respective runoff values. Ultimately, the notebook produces a figure displaying the relative contributions of glacial runoff to the Rhine, Rhone, Po, and Danube river basins. \n",
    "\n",
    "Last Updated: 1 June 2023| FFW"
   ]
  },
  {
   "cell_type": "code",
   "execution_count": null,
   "id": "2d54326f-531a-4431-9809-826e4633a264",
   "metadata": {},
   "outputs": [],
   "source": [
    "import numpy as np\n",
    "import pandas as pd\n",
    "import matplotlib.pyplot as plt\n",
    "from matplotlib import cm\n",
    "from datetime import date\n",
    "import collections\n",
    "import datetime\n",
    "import os\n",
    "import xarray as xr"
   ]
  },
  {
   "cell_type": "code",
   "execution_count": null,
   "id": "a50ce899-7e9c-4864-b402-4c946f19f0d0",
   "metadata": {},
   "outputs": [],
   "source": [
    "#All of the climate models used\n",
    "modelnames = ['BCC-CSM2-MR','CESM2','CESM2-WACCM','EC-Earth3','EC-Earth3-Veg','FGOALS-f3-L','GFDL-ESM4',\n",
    "              'INM-CM4-8','INM-CM5-0','MPI-ESM1-2-HR','MRI-ESM2-0', 'NorESM2-MM']\n",
    "\n",
    "SSPs = ['ssp126','ssp245','ssp370','ssp585'] #List of all SSPs in PyGEM\n",
    "which_ssp = SSPs[0]\n",
    "\n",
    "alpine_basins = {'RHINE': '6242',\n",
    "                 'RHONE': '6243',\n",
    "                 'PO': '6241',\n",
    "                 'DANUBE':'6202'} ## GRDC Major River Basin identifiers for the 4 alpine basins we can study\n",
    "\n",
    "test_basin = alpine_basins['RHONE'] \n",
    "\n",
    "#Generic filepath to navigate to Drive folder \n",
    "fpath0 = '/Users/finnwimberly/Library/CloudStorage/GoogleDrive-fwimberly@middlebury.edu/My Drive/Lizz Research Stuff'"
   ]
  },
  {
   "cell_type": "code",
   "execution_count": null,
   "id": "a24f34e4-8ab7-43c1-a052-f03e637593ea",
   "metadata": {},
   "outputs": [],
   "source": [
    "import json\n",
    "def select_glaciers_json(basin='all'):\n",
    "    '''\n",
    "    Select glaciers within a basin by MRBID from a json-file,\n",
    "    which is stored in the data directory.\n",
    "\n",
    "    Args:\n",
    "    -----\n",
    "    basin: str\n",
    "        String of MRBID or 'all'.\n",
    "\n",
    "    Returns:\n",
    "    --------\n",
    "    If basin is 'all' a list of all relevant glaciers is returned, for\n",
    "    initiating glacier simulations. If basin is a MRBID the list of glaciers\n",
    "    within that basin is returned.\n",
    "    \n",
    "    Copy of a function written by Erik Holmgren (2022) in holmgren_gha.utils\n",
    "    '''\n",
    "\n",
    "    # fpath = './data/rgi_ids_per_basin.json'\n",
    "    fpath = '/Users/finnwimberly/Library/CloudStorage/GoogleDrive-fwimberly@middlebury.edu/My Drive/Lizz Research Stuff/rgi_ids_per_basin.json'  \n",
    "    with open(fpath) as f:\n",
    "        basin_dict = json.load(f)\n",
    "\n",
    "    if basin.lower() != 'all':\n",
    "        glacier_list = basin_dict[basin]\n",
    "    else:\n",
    "        glacier_list = list(itertools.chain.from_iterable(basin_dict.values()))\n",
    "\n",
    "    return glacier_list"
   ]
  },
  {
   "cell_type": "code",
   "execution_count": null,
   "id": "7c3dc306-d3be-4449-90a0-b59a1a461369",
   "metadata": {},
   "outputs": [],
   "source": [
    "basin_gls = {}\n",
    "for basin, code in alpine_basins.items():\n",
    "    basin_gls[basin] = select_glaciers_json(code)"
   ]
  },
  {
   "cell_type": "code",
   "execution_count": null,
   "id": "2f78d5b8-c0c9-49d1-8cf2-34d3e4b03302",
   "metadata": {},
   "outputs": [],
   "source": [
    "#Based upon code developed by Lizz Ultee\n",
    "batches = ['1-1000.nc', '1001-2000.nc', '2001-3000.nc', '3001-4000.nc']\n",
    "\n",
    "basin_datasets = {}\n",
    "for s, SSP in enumerate(SSPs):\n",
    "    which_ssp = SSPs[s]\n",
    "    basin_datasets[which_ssp] = {}  # Initialize basin_datasets with the ssp key\n",
    "    \n",
    "    fpath1 = '/11/R11_runoff_monthly_c2_ba1_1set_2000_2100-{}-Batch-'.format(which_ssp)\n",
    "\n",
    "    for basin, glacier_list in basin_gls.items():\n",
    "        ## loop over them all, drop the irrelevant IDs, and concatenate the result\n",
    "        ds_list = []\n",
    "        for b in batches:\n",
    "            ds_temp = xr.open_dataset(fpath0 + fpath1 + b)\n",
    "            try:\n",
    "                ds_filtered = ds_temp.where(ds_temp.RGIId.isin(glacier_list), drop=True)\n",
    "                ds_list.append(ds_filtered)\n",
    "            except ValueError: ## happens if there are no glaciers from this batch in the selected region\n",
    "                continue\n",
    "        basin_datasets[which_ssp][basin] = xr.concat(ds_list, dim='glacier')"
   ]
  },
  {
   "cell_type": "code",
   "execution_count": null,
   "id": "498dc34d-6188-4544-b350-c7291fc1d757",
   "metadata": {},
   "outputs": [],
   "source": [
    "#Now we convert each basin ds to an annual format. Also convert m^3 to km^3\n",
    "basins = ['RHINE', 'RHONE', 'PO','DANUBE']\n",
    "annual_basin_ds = {}\n",
    "for s, SSP in enumerate(SSPs):\n",
    "    which_ssp = SSPs[s]\n",
    "    annual_basin_ds[which_ssp] = {}\n",
    "    for basin in basins:\n",
    "        annual_basin_ds[SSP][basin] = basin_datasets[SSP][basin].glac_runoff_monthly.resample(time='A').sum()*1e-9"
   ]
  },
  {
   "cell_type": "code",
   "execution_count": null,
   "id": "3dce4216-dab9-4891-8829-7ee168a1420b",
   "metadata": {},
   "outputs": [],
   "source": [
    "#Confirming that we loaded all SSPs--was not the case initially\n",
    "annual_basin_ds['ssp126']['RHINE'].equals(annual_basin_ds['ssp245']['RHINE'])"
   ]
  },
  {
   "cell_type": "code",
   "execution_count": null,
   "id": "9dd973c1-89e6-488e-8a78-8b6f9023e908",
   "metadata": {},
   "outputs": [],
   "source": [
    "from cycler import cycler\n",
    "import seaborn as sns\n",
    "\n",
    "scenarios = ['ssp126', 'ssp245', 'ssp370', 'ssp585']\n",
    "basins = ['RHINE', 'RHONE', 'PO','DANUBE']\n",
    "\n",
    "#Creating color scheme\n",
    "color_map = plt.colormaps['magma']\n",
    "line_colors = color_map(np.linspace(0.1, 0.9, num = 12))\n",
    "custom_cycler = cycler(color = line_colors)\n",
    "\n",
    "#Plotting all data\n",
    "fig, axs = plt.subplots(len(scenarios), 4, figsize=(12, 10), sharex=True)\n",
    "for s, SSP in enumerate(scenarios):\n",
    "    which_ssp = SSPs[s]\n",
    "    for b, basin in enumerate(basins):\n",
    "        annual_basin_ds[which_ssp][basin].sum(dim='glacier').rolling(time=30).mean().plot(hue='model', ax=axs[s, b], color=axs[s, b].set_prop_cycle(custom_cycler), add_legend=False)\n",
    "        if s == 3:\n",
    "            for sub_b in range(4):  # Use a different variable name for the inner loop\n",
    "                axs[s, sub_b].set_xlabel('Year')\n",
    "        else:\n",
    "            axs[s, b].set_xlabel(None)\n",
    "        if b == 0:\n",
    "            for sub_s in range(4):  # Use a different variable name for the inner loop\n",
    "                axs[sub_s, b].set_ylabel(r'Rolling Mean Runoff $[km^3]$')\n",
    "        else:\n",
    "            axs[s, b].set_ylabel(None)\n",
    "\n",
    "#Adding legend, titles, etc       \n",
    "axs[0,0].legend(['BCC-CSM2-MR','CESM2','CESM2-WACCM','EC-Earth3','EC-Earth3-Veg','FGOALS-f3-L','GFDL-ESM4',\n",
    "              'INM-CM4-8','INM-CM5-0','MPI-ESM1-2-HR','MRI-ESM2-0', 'NorESM2-MM'],bbox_to_anchor=(4.96, 1.64), ncol=6)\n",
    "plt.subplots_adjust(top=0.85, wspace=0.3, hspace=0.2)\n",
    "plt.suptitle('Runoff of Major River Basins in Central Europe, Projected by PyGEM')\n",
    "plt.title('Rhine River Basin                   Rhone River Basin                      Po River Basin                   Danube River Basin', x=-1.43, y=4.72)\n",
    "\n",
    "#Adding ssp labels\n",
    "#Can uncomment xlim command to match timescale w/ GloGEM but this requires the image to be smaller\n",
    "for s, SSP in enumerate(scenarios):\n",
    "    #axs[s, 0].set(xlim=(2000, 2100))\n",
    "    axs[s, 0].text(pd.to_datetime('2081-01-01'), 1.29, SSP)\n",
    "for s, SSP in enumerate(scenarios):\n",
    "    #axs[s, 1].set(xlim=(2000, 2100))\n",
    "    axs[s, 1].text(pd.to_datetime('2081-01-01'), 3.015, SSP)\n",
    "for s, SSP in enumerate(scenarios):\n",
    "    #axs[s, 2].set(xlim=(2000, 2100))\n",
    "    axs[s, 2].text(pd.to_datetime('2081-01-01'), 0.985, SSP)\n",
    "for s, SSP in enumerate(scenarios):\n",
    "    #axs[s, 3].set(xlim=(2000, 2100))\n",
    "    axs[s, 3].text(pd.to_datetime('2081-01-01'), 1.325, SSP)"
   ]
  },
  {
   "cell_type": "code",
   "execution_count": null,
   "id": "d67ba7ca-52d0-4fbc-bc8f-bfb3a1edebc6",
   "metadata": {},
   "outputs": [],
   "source": [
    "## check the x-axis units of what we're plottijng\n",
    "# annual_basin_ds['ssp126']['RHINE'].time\n",
    "pd.to_datetime('2070-01-01')"
   ]
  },
  {
   "cell_type": "code",
   "execution_count": null,
   "id": "023b25b6-a3a8-4cab-ae8d-7c37490cdcf8",
   "metadata": {},
   "outputs": [],
   "source": []
  }
 ],
 "metadata": {
  "kernelspec": {
   "display_name": "Python 3 (ipykernel)",
   "language": "python",
   "name": "python3"
  },
  "language_info": {
   "codemirror_mode": {
    "name": "ipython",
    "version": 3
   },
   "file_extension": ".py",
   "mimetype": "text/x-python",
   "name": "python",
   "nbconvert_exporter": "python",
   "pygments_lexer": "ipython3",
   "version": "3.11.3"
  }
 },
 "nbformat": 4,
 "nbformat_minor": 5
}
