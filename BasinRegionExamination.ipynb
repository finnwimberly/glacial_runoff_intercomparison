{
 "cells": [
  {
   "cell_type": "markdown",
   "id": "e75d706f-19eb-47aa-934a-64c0b8aba4c1",
   "metadata": {},
   "source": [
    "#### Checking what RGI regions our South American basins are located within (16 or 17)"
   ]
  },
  {
   "cell_type": "code",
   "execution_count": 5,
   "id": "6965b2fe-5a33-4c20-9b0a-ce6263f9e827",
   "metadata": {},
   "outputs": [],
   "source": [
    "#South American basins from OGGM outputs\n",
    "SA_basin_list = ['3912', '3429', '3428', '3426', '3425', '3423', '3422', '3420', '3419', \n",
    "                 '3418', '3416', '3412', '3409', '3408', '3405', '3404', '3403', '3401', \n",
    "                 '3244', '3232', '3227', '3212', '3209', '3203']"
   ]
  },
  {
   "cell_type": "code",
   "execution_count": 6,
   "id": "5b982d7e-d85d-4454-9b1a-0db39450efa1",
   "metadata": {},
   "outputs": [],
   "source": [
    "import json\n",
    "def select_glaciers_json(basin='all'):\n",
    "    '''\n",
    "    Select glaciers within a basin by MRBID from a json-file,\n",
    "    which is stored in the data directory.\n",
    "\n",
    "    Args:\n",
    "    -----\n",
    "    basin: str\n",
    "        String of MRBID or 'all'.\n",
    "\n",
    "    Returns:\n",
    "    --------\n",
    "    If basin is 'all' a list of all relevant glaciers is returned, for\n",
    "    initiating glacier simulations. If basin is a MRBID the list of glaciers\n",
    "    within that basin is returned.\n",
    "    \n",
    "    Copy of a function written by Erik Holmgren (2022) in holmgren_gha.utils\n",
    "    '''\n",
    "\n",
    "    # fpath = './data/rgi_ids_per_basin.json'\n",
    "    fpath = '/Users/finnwimberly/Library/CloudStorage/GoogleDrive-fwimberly@middlebury.edu/My Drive/Lizz Research Stuff/rgi_ids_per_basin.json'  \n",
    "    with open(fpath) as f:\n",
    "        basin_dict = json.load(f)\n",
    "\n",
    "    if basin.lower() != 'all':\n",
    "        glacier_list = basin_dict[basin]\n",
    "    else:\n",
    "        glacier_list = list(itertools.chain.from_iterable(basin_dict.values()))\n",
    "\n",
    "    return glacier_list"
   ]
  },
  {
   "cell_type": "code",
   "execution_count": 7,
   "id": "21b27803-fb45-45ce-99ca-ae6258f19401",
   "metadata": {},
   "outputs": [],
   "source": [
    "glac_list = {}\n",
    "for b, basin in enumerate(SA_basin_list):\n",
    "    glac_list[basin] = select_glaciers_json(SA_basin_list[b])"
   ]
  },
  {
   "cell_type": "code",
   "execution_count": 12,
   "id": "d9aecc3b-d7d7-4fb8-87ee-5f7eeb2fe13c",
   "metadata": {},
   "outputs": [],
   "source": [
    "#Distinguishing between regions 16 and 17 for south american basins\n",
    "SA_basin_list = ['3912', '3429', '3428', '3426', '3425', '3423', '3422', '3420', '3419', \n",
    "                 '3418', '3416', '3412', '3409', '3408', '3405', '3404', '3403', '3401', \n",
    "                 '3244', '3232', '3227', '3212', '3209', '3203']\n",
    "\n",
    "SA_basins_RGI16 = {'TITCACA':'3912', 'SANTA':'3425', 'OCONA':'3418', 'MAJES':'3416', \n",
    "                'MAGDALENA':'3227', 'AMAZON':'3203'}\n",
    "basins_RGI17 = {'YELCHO':'3429', 'VALDIVIA':'3428', 'SERRANO':'3426', 'RAPEL':'3423', 'PUELO':'3422', \n",
    "                'PASCUA':'3420', 'PALENA':'3419', 'HUASCO':'3412', 'COPIAPO':'3409', 'CISNES':'3408', \n",
    "                'BIOBIO':'3405', 'BAKER':'3404', 'AZOPARDO':'3403', 'AISEN':'3401', 'SANTA CRUZ':'3244', \n",
    "                'NEGRO':'3232', 'COLORADO':'3212', 'CHICO':'3209'}"
   ]
  },
  {
   "cell_type": "code",
   "execution_count": 9,
   "id": "56f48238-441e-4431-bf94-58fd7b9ff295",
   "metadata": {},
   "outputs": [],
   "source": [
    "#Asian basins\n",
    "As_basin_list = ['2919', '2918', '2914', '2913', '2910', '2909', '2905', '2902', '2434', '2433', \n",
    "                 '2421', '2413', '2319', '2310', '2309', '2306', '2302', '2108', '2103']"
   ]
  },
  {
   "cell_type": "code",
   "execution_count": 10,
   "id": "9f7b6134-e972-4b96-8c9e-ce52808e2a46",
   "metadata": {},
   "outputs": [],
   "source": [
    "glac_list = {}\n",
    "for b, basin in enumerate(As_basin_list):\n",
    "    glac_list[basin] = select_glaciers_json(As_basin_list[b])"
   ]
  },
  {
   "cell_type": "code",
   "execution_count": 32,
   "id": "2cfb055d-5064-4ad3-a7dc-e3088a13e0fd",
   "metadata": {},
   "outputs": [],
   "source": [
    "#As_basins_16 = {}\n",
    "#Looks like all glaciers feeding Asian river basins are in RGI regions 10,15, and 13 "
   ]
  },
  {
   "cell_type": "code",
   "execution_count": 34,
   "id": "e8274812-d37c-448c-86bd-acbd4e44bb97",
   "metadata": {},
   "outputs": [],
   "source": [
    "#glac_list['2103']"
   ]
  },
  {
   "cell_type": "code",
   "execution_count": null,
   "id": "b2aa9736-6018-44bc-807e-88fc1bfc0606",
   "metadata": {},
   "outputs": [],
   "source": []
  }
 ],
 "metadata": {
  "kernelspec": {
   "display_name": "Python 3 (ipykernel)",
   "language": "python",
   "name": "python3"
  },
  "language_info": {
   "codemirror_mode": {
    "name": "ipython",
    "version": 3
   },
   "file_extension": ".py",
   "mimetype": "text/x-python",
   "name": "python",
   "nbconvert_exporter": "python",
   "pygments_lexer": "ipython3",
   "version": "3.11.3"
  }
 },
 "nbformat": 4,
 "nbformat_minor": 5
}
