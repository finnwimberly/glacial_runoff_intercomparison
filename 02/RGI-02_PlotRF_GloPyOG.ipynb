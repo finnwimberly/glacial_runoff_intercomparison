{
 "cells": [
  {
   "cell_type": "markdown",
   "id": "56bbdd66-2ce1-4711-be0e-1e5807772834",
   "metadata": {},
   "source": [
    "## Plotting"
   ]
  },
  {
   "cell_type": "markdown",
   "id": "bcb115a1-b52e-4869-9108-014a6a3bd28b",
   "metadata": {},
   "source": [
    "This notebook creates visuals of the runoff data for all 3 Models. The data has been loaded elsewhere and converted to a locally saved CSV to the address memory capacity issues encountered when processing large RGI regions. \n",
    "\n",
    "Last edited: July 13, 2023 | FFW"
   ]
  },
  {
   "cell_type": "code",
   "execution_count": null,
   "id": "e63c9b2c-0195-4abb-a877-3811d4b01f98",
   "metadata": {},
   "outputs": [],
   "source": [
    "import numpy as np\n",
    "import pandas as pd\n",
    "import matplotlib.pyplot as plt\n",
    "from matplotlib import cm\n",
    "from datetime import date\n",
    "import collections\n",
    "import datetime\n",
    "import os\n",
    "import xarray as xr\n",
    "from cycler import cycler\n",
    "import matplotlib.patches as mpatches"
   ]
  },
  {
   "cell_type": "code",
   "execution_count": null,
   "id": "bcedbd62-1033-4c4b-a272-fd2d50f4d928",
   "metadata": {},
   "outputs": [],
   "source": [
    "glacier_models = ['GloGEM', 'OGGM', 'PyGEM']\n",
    "\n",
    "modelnames_all = ['BCC-CSM2-MR', 'CESM2', 'CESM2-WACCM', 'EC-Earth3', 'EC-Earth3-Veg', 'FGOALS-f3-L', 'GFDL-ESM4', \n",
    "                  'INM-CM4-8', 'INM-CM5-0', 'MPI-ESM1-2-HR', 'MRI-ESM2-0', 'NorESM2-MM']\n",
    "\n",
    "scenarios = ['ssp126','ssp245','ssp370','ssp585']\n",
    "\n",
    "Alpine_basins = {'FRASER':'4410', 'COLUMBIA':'4406', 'NELSON':'4125', 'MACKENZIE':'4123'}\n",
    "\n",
    "basins = ['FRASER', 'COLUMBIA', 'NELSON', 'MACKENZIE']\n",
    "\n",
    "basinstext = ['Fraser', 'Columbia', 'Nelson', 'Mackenzie']\n",
    "\n",
    "fpath0 = '/Users/finnwimberly/Desktop/Lizz Research/CSV Outputs/Load Separate/RGI 02/'"
   ]
  },
  {
   "cell_type": "markdown",
   "id": "c7bbccdb-4cbc-4430-b1f8-f2f2f7e445bb",
   "metadata": {},
   "source": [
    "#### Importing CSV files"
   ]
  },
  {
   "cell_type": "code",
   "execution_count": null,
   "id": "db1c6549-2b3d-46b4-b1d2-8a9a7a90bace",
   "metadata": {},
   "outputs": [],
   "source": [
    "# Create new index using pandas date_range function\n",
    "start_date = datetime.date(2000, 1, 1)\n",
    "end_date = datetime.date(2100, 12, 1)\n",
    "new_indices = pd.date_range(start_date, end_date, freq='MS').strftime('%Y-%m').tolist()"
   ]
  },
  {
   "cell_type": "code",
   "execution_count": null,
   "id": "af66e5c4-2ebe-486a-bf17-abebc94725fc",
   "metadata": {},
   "outputs": [],
   "source": [
    "#Loading data, applying datetime indices, and creating annual sum dfs\n",
    "all_rf_data = {}\n",
    "all_rf_data_annual = {}\n",
    "for g, gmodel in enumerate(glacier_models):\n",
    "    all_rf_data[gmodel] = {}\n",
    "    all_rf_data_annual[gmodel] = {}\n",
    "    fpath = fpath0 + '/' + gmodel + '/'\n",
    "    for s, SSP in enumerate(scenarios):\n",
    "        all_rf_data[gmodel][SSP] = {}\n",
    "        all_rf_data_annual[gmodel][SSP] = {}\n",
    "        for b, basin in enumerate(basins):\n",
    "            all_rf_data[gmodel][SSP][basin] = {}\n",
    "            all_rf_data_annual[gmodel][SSP][basin] = {}\n",
    "            for m, GCM in enumerate(modelnames_all):\n",
    "                fname = f\"runoff_{GCM}_{SSP}_{basin}.csv\"\n",
    "                temp_df = pd.read_csv(fpath + fname, index_col = 0)\n",
    "                all_rf_data[gmodel][SSP][basin][GCM] = temp_df\n",
    "                all_rf_data[gmodel][SSP][basin][GCM].index = new_indices\n",
    "                all_rf_data[gmodel][SSP][basin][GCM].index = pd.to_datetime(new_indices)\n",
    "                all_rf_data_annual[gmodel][SSP][basin][GCM] = all_rf_data[gmodel][SSP][basin][GCM].resample('A').sum()"
   ]
  },
  {
   "cell_type": "code",
   "execution_count": null,
   "id": "cdb58fc7-d055-4fc5-8bca-b809244ff9b2",
   "metadata": {},
   "outputs": [],
   "source": [
    "# Taking multi-GCM means and quartiles\n",
    "GCM_mean = {}\n",
    "GCM_q1 = {}\n",
    "GCM_q3 = {}\n",
    "for g, gmodel in enumerate(glacier_models):\n",
    "    GCM_mean[gmodel] = {}\n",
    "    GCM_q1[gmodel] = {}\n",
    "    GCM_q3[gmodel] = {}\n",
    "    for s, SSP in enumerate(scenarios):\n",
    "        GCM_mean[gmodel][SSP] = {}\n",
    "        GCM_q1[gmodel][SSP] = {}\n",
    "        GCM_q3[gmodel][SSP] = {}\n",
    "        for b, basin in enumerate(basins):\n",
    "            df_dict = all_rf_data_annual[gmodel][SSP][basin]\n",
    "           \n",
    "            df_mean = pd.concat(df_dict.values(), axis=1).mean(axis=1)\n",
    "            GCM_mean[gmodel][SSP][basin] = df_mean\n",
    "\n",
    "            df_q1 = pd.concat(df_dict.values(), axis=1).quantile(q=0.25, axis=1)\n",
    "            GCM_q1[gmodel][SSP][basin] = df_q1\n",
    "\n",
    "            df_q3 = pd.concat(df_dict.values(), axis=1).quantile(q=0.75, axis=1)\n",
    "            GCM_q3[gmodel][SSP][basin] = df_q3"
   ]
  },
  {
   "cell_type": "code",
   "execution_count": null,
   "id": "84acf19d-526d-4885-a80e-8fb4e1eb3168",
   "metadata": {},
   "outputs": [],
   "source": [
    "#Creating time values and color schemes\n",
    "yrs = np.arange(2000, 2101)\n",
    "yrs_dt = pd.to_datetime([str(y) for y in yrs])\n",
    "\n",
    "colorschemes = {}\n",
    "\n",
    "colors_glo =  plt.colormaps['Greens']\n",
    "line_colors_glo = colors_glo(np.linspace(0.2, 0.6, num = 12))\n",
    "glo_cycler = cycler(color = line_colors_glo)\n",
    "colorschemes['GloGEM'] = glo_cycler\n",
    "\n",
    "colors_OG =  plt.colormaps['Blues']\n",
    "line_colors_OG = colors_OG(np.linspace(0.2, 0.6,num = 12))\n",
    "OG_cycler = cycler(color = line_colors_OG)\n",
    "colorschemes['OGGM'] = OG_cycler\n",
    "\n",
    "colors_py =  plt.colormaps['Purples']\n",
    "line_colors_py = colors_py(np.linspace(0.2, 0.6,num = 12))\n",
    "py_cycler = cycler(color = line_colors_py)\n",
    "colorschemes['PyGEM'] = py_cycler\n",
    "\n",
    "colors = ['darkgreen', 'royalblue', 'purple']\n",
    "fill_colors = ['green', 'dodgerblue', 'purple']"
   ]
  },
  {
   "cell_type": "code",
   "execution_count": null,
   "id": "614ead5e-9323-40dd-aeb3-6b14b4dba9bb",
   "metadata": {},
   "outputs": [],
   "source": [
    "fig, axs = plt.subplots(len(basins), len(scenarios), figsize=(10, 2.4*len(basins)), sharex =True)\n",
    "\n",
    "for g, gmodel in enumerate(glacier_models):\n",
    "    for m, GCM in enumerate(modelnames_all):\n",
    "        for s, SSP in enumerate(scenarios):\n",
    "            for b, basin in enumerate(basins):\n",
    "                if gmodel == 'OGGM':\n",
    "                    axs[b,s].plot(yrs_dt[0:-1], all_rf_data_annual[gmodel][SSP][basin][GCM][0:-1], color=axs[b, s].set_prop_cycle(colorschemes[gmodel]), alpha = 0.25)\n",
    "                    axs[b,s].plot(yrs_dt[0:-1], GCM_mean[gmodel][SSP][basin][0:-1], color = colors[g], linewidth = 0.9)\n",
    "                    axs[b,s].plot(yrs_dt[0:-1], GCM_q1[gmodel][SSP][basin][0:-1], color = colors[g], linewidth = 0.4)\n",
    "                    axs[b,s].plot(yrs_dt[0:-1], GCM_q3[gmodel][SSP][basin][0:-1], color = colors[g], linewidth = 0.4)\n",
    "                    axs[b,s].fill_between(yrs_dt[0:-1], GCM_q1[gmodel][SSP][basin][0:-1], GCM_q3[gmodel][SSP][basin][0:-1], color = fill_colors[g])\n",
    "                else:\n",
    "                    axs[b,s].plot(yrs_dt, all_rf_data_annual[gmodel][SSP][basin][GCM], color=axs[b, s].set_prop_cycle(colorschemes[gmodel]), alpha = 0.25)\n",
    "                    axs[b,s].plot(yrs_dt, GCM_mean[gmodel][SSP][basin], color = colors[g], linewidth = 0.9)\n",
    "                    axs[b,s].plot(yrs_dt, GCM_q1[gmodel][SSP][basin], color = colors[g], linewidth = 0.4)\n",
    "                    axs[b,s].plot(yrs_dt, GCM_q3[gmodel][SSP][basin], color = colors[g], linewidth = 0.4)\n",
    "                    axs[b,s].fill_between(yrs_dt, GCM_q1[gmodel][SSP][basin], GCM_q3[gmodel][SSP][basin], color = fill_colors[g])\n",
    "                axs[b,s].set(xlim=(pd.to_datetime('2000-01-01'), pd.to_datetime('2100-01-01')))\n",
    "\n",
    "         #Setting x and y labels and making y limits uniform within basins\n",
    "                if b == (len(basins)-1):\n",
    "                    for sub_s in range(4):  # Use a different variable name for the inner loop\n",
    "                        axs[b, sub_s].set_xlabel('Year')\n",
    "                        axs[b, sub_s].set_xticks([pd.to_datetime('2025'),pd.to_datetime('2050'), pd.to_datetime('2075'), pd.to_datetime('2100')], [2025, 2050, 2075, 2100])\n",
    "                else:\n",
    "                    axs[b, s].set_xlabel(None) \n",
    "                \n",
    "                if s == 0:                                                                    #Setting basin labels\n",
    "                    for sub_b in range(len(basins)):\n",
    "                        axs[sub_b,s].set_ylabel(basinstext[sub_b]+ r' $[km^3]$')\n",
    "                if s != 0:\n",
    "                    axs[b, s].set_ylabel(None)\n",
    "                    axs[b, s].set_yticklabels('')\n",
    "\n",
    "green_patch = mpatches.Patch(color='darkgreen', label='GloGEM')\n",
    "purple_patch = mpatches.Patch(color='purple', label='PyGEM') \n",
    "blue_patch = mpatches.Patch(color='royalblue', label='OGGM')\n",
    "axs[0,0].legend(handles=[green_patch, purple_patch, blue_patch], bbox_to_anchor=(3.15, 1.5), ncol=3)\n",
    "\n",
    "plt.suptitle('GloGEM, PyGEM, and OGGM Runoff Projections for Major Western Canadian River Basins', x=0.48, y=0.98)\n",
    "plt.title('SSP 126                            SSP 245                           SSP 370                            SSP 585', x=-1.3, y=(1.176* len(basins))) "
   ]
  },
  {
   "cell_type": "markdown",
   "id": "66ba77b2-6432-464e-8496-37cecb862600",
   "metadata": {},
   "source": [
    "### Reading Out Monthly Runoff in a Single CSV"
   ]
  },
  {
   "cell_type": "code",
   "execution_count": null,
   "id": "2b426ee7-9de9-4408-85b1-c0db81a69e8d",
   "metadata": {},
   "outputs": [],
   "source": [
    "#Using the GloGEM datetime index\n",
    "indices = all_rf_data[gmodel][SSP][basin][GCM].index\n",
    "\n",
    "#Creating dataframes of SSP, basin, and GCM containing all 3 global glacier models\n",
    "out_df = {}\n",
    "for s, SSP in enumerate(scenarios):\n",
    "    out_df[SSP] = {}\n",
    "    for b, basin in enumerate(basins):\n",
    "        out_df[SSP][basin] = {}\n",
    "        for m, model in enumerate(modelnames_all):\n",
    "            glo_values = all_rf_data['GloGEM'][SSP][basin][model].values.flatten()\n",
    "            pygem_values = all_rf_data['PyGEM'][SSP][basin][model].values.flatten()\n",
    "            oggm_values = all_rf_data['OGGM'][SSP][basin][model].values.flatten()\n",
    "\n",
    "            out_df[SSP][basin][model] = pd.DataFrame(\n",
    "                {\n",
    "                    'GloGEM': glo_values,\n",
    "                    'PyGEM': pygem_values,\n",
    "                    'OGGM': oggm_values,\n",
    "                },\n",
    "                index=indices\n",
    "            )"
   ]
  },
  {
   "cell_type": "code",
   "execution_count": null,
   "id": "0567947e-a13e-491e-9ec4-7da853c9b6f5",
   "metadata": {},
   "outputs": [],
   "source": [
    "# Define the directory to save the CSV files\n",
    "output_dir = '/Users/finnwimberly/Desktop/Lizz Research/CSV Outputs/Runoff/RGI 01/'\n",
    "\n",
    "for SSP in out_df:\n",
    "    for basin in out_df[SSP]:\n",
    "        for GCM in out_df[SSP][basin]:\n",
    "            fname = f\"runoff_{GCM}_{SSP}_{basin}.csv\"\n",
    "\n",
    "            # Define the full path of the output file\n",
    "            output_path = os.path.join(output_dir, fname)\n",
    "\n",
    "            # Save the DataFrame as CSV\n",
    "            out_df[SSP][basin][GCM].to_csv(output_path, header=True, index=True)"
   ]
  },
  {
   "cell_type": "code",
   "execution_count": null,
   "id": "83a71eea-aeb4-464c-9c79-02008defddfc",
   "metadata": {},
   "outputs": [],
   "source": []
  }
 ],
 "metadata": {
  "kernelspec": {
   "display_name": "Python 3 (ipykernel)",
   "language": "python",
   "name": "python3"
  },
  "language_info": {
   "codemirror_mode": {
    "name": "ipython",
    "version": 3
   },
   "file_extension": ".py",
   "mimetype": "text/x-python",
   "name": "python",
   "nbconvert_exporter": "python",
   "pygments_lexer": "ipython3",
   "version": "3.11.3"
  }
 },
 "nbformat": 4,
 "nbformat_minor": 5
}
