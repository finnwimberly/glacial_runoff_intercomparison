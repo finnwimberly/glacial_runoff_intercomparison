{
 "cells": [
  {
   "cell_type": "markdown",
   "id": "3a49e0e6-a595-4c69-9986-92487b128174",
   "metadata": {},
   "source": [
    "## Comparison of GloGEM, PyGEM, and OGGM RGI 17 Volume Outputs "
   ]
  },
  {
   "cell_type": "markdown",
   "id": "fec4a803-ff08-4d30-a540-bbd5df8e6233",
   "metadata": {},
   "source": [
    "This notebook imports and processes GloGEM, PyGEM, and OGGM RGI 17 volume outpts. Summing glacial volume change by basin, we produce a plot that compares the three models' projected volume values for each basin by SSP. \n",
    "\n",
    "Last Updated: 28 June 2023 | FFW"
   ]
  },
  {
   "cell_type": "markdown",
   "id": "d0fa2cdb-7561-40d3-add1-375fd9a533e2",
   "metadata": {},
   "source": [
    "### GloGEM"
   ]
  },
  {
   "cell_type": "code",
   "execution_count": null,
   "id": "85bcf90b-fb5a-4952-8f6b-37c81b313e3c",
   "metadata": {},
   "outputs": [],
   "source": [
    "import numpy as np\n",
    "import pandas as pd\n",
    "import matplotlib.pyplot as plt\n",
    "from matplotlib import cm\n",
    "from datetime import date\n",
    "import collections\n",
    "import datetime\n",
    "import os\n",
    "\n",
    "## Generic the filepath to the main data folder\n",
    "fpath0 = '/Users/finnwimberly/Library/CloudStorage/GoogleDrive-fwimberly@middlebury.edu/My Drive/Lizz Research Stuff/'\n",
    "fpath1 = 'Runoff-intercomparison/GloGEM-output/Volume_GloGEM_20230626/SouthernAndes/' \n",
    "\n",
    "#All of the climate models used\n",
    "modelnames_glo = ['BCC-CSM2-MR','CAMS-CSM1-0','CESM2','CESM2-WACCM','EC-Earth3','EC-Earth3-Veg','FGOALS-f3-L','GFDL-ESM4',\n",
    "              'INM-CM4-8','INM-CM5-0','MPI-ESM1-2-HR','MRI-ESM2-0', 'NorESM2']\n",
    "\n",
    "SSPs = ['ssp126','ssp245','ssp370','ssp585'] #Use a different path as we have all 5 ssps for volume"
   ]
  },
  {
   "cell_type": "code",
   "execution_count": null,
   "id": "d378cbeb-8bf7-41a6-9336-78fe865ebdde",
   "metadata": {},
   "outputs": [],
   "source": [
    "volumes = {}\n",
    "for s, SSP in enumerate(SSPs):\n",
    "    volumes[SSP] = {}\n",
    "    for m, model in enumerate(modelnames_glo):\n",
    "        temp_df = pd.read_csv(fpath0 + fpath1 + model + '/' + SSP  + '/' + 'Volume_SouthernAndes.dat', sep='\\s+', header=None, skiprows=1, index_col=0)\n",
    "        volumes[SSP][model] = model_discharges.append(temp_df)"
   ]
  },
  {
   "cell_type": "code",
   "execution_count": null,
   "id": "7fceeabf-9e08-469b-90a6-280e4fcc3a6e",
   "metadata": {},
   "outputs": [],
   "source": [
    "#Importing the data for each SSP\n",
    "all_volumes = [pd.read_csv(os.path.join(fpath, SSP, 'RGIreg11_Volume_individual.dat'), sep='\\s+', header=0, skiprows=1, index_col=0) for SSP in SSPs]"
   ]
  },
  {
   "cell_type": "code",
   "execution_count": null,
   "id": "6824c33e-f2d0-42b1-b37d-1948dfe8bd08",
   "metadata": {},
   "outputs": [],
   "source": [
    "import json\n",
    "def select_glaciers_json(basin='all'):\n",
    "    '''\n",
    "    Select glaciers within a basin by MRBID from a json-file,\n",
    "    which is stored in the data directory.\n",
    "\n",
    "    Args:\n",
    "    -----\n",
    "    basin: str\n",
    "        String of MRBID or 'all'.\n",
    "\n",
    "    Returns:\n",
    "    --------\n",
    "    If basin is 'all' a list of all relevant glaciers is returned, for\n",
    "    initiating glacier simulations. If basin is a MRBID the list of glaciers\n",
    "    within that basin is returned.\n",
    "    \n",
    "    Copy of a function written by Erik Holmgren (2022) in holmgren_gha.utils\n",
    "    '''\n",
    "\n",
    "    # fpath = './data/rgi_ids_per_basin.json'\n",
    "    fpath = '/Users/finnwimberly/Library/CloudStorage/GoogleDrive-fwimberly@middlebury.edu/My Drive/Lizz Research Stuff/rgi_ids_per_basin.json'  \n",
    "    with open(fpath) as f:\n",
    "        basin_dict = json.load(f)\n",
    "\n",
    "    if basin.lower() != 'all':\n",
    "        glacier_list = basin_dict[basin]\n",
    "    else:\n",
    "        glacier_list = list(itertools.chain.from_iterable(basin_dict.values()))\n",
    "\n",
    "    return glacier_list"
   ]
  },
  {
   "cell_type": "markdown",
   "id": "3056ce7a-25f5-4ab1-9c1d-8ee835c32cfb",
   "metadata": {},
   "source": [
    "### PyGEM"
   ]
  },
  {
   "cell_type": "code",
   "execution_count": null,
   "id": "fbb0ec41-d200-4ad3-914c-9e52d4a8d29a",
   "metadata": {},
   "outputs": [],
   "source": [
    "import xarray as xr\n",
    "\n",
    "#All of the climate models used\n",
    "modelnames_py = ['BCC-CSM2-MR','CESM2','CESM2-WACCM','EC-Earth3','EC-Earth3-Veg','FGOALS-f3-L','GFDL-ESM4',\n",
    "              'INM-CM4-8','INM-CM5-0','MPI-ESM1-2-HR','MRI-ESM2-0', 'NorESM2-MM']\n",
    "\n",
    "SSPs = ['ssp126','ssp245','ssp370','ssp585'] #List of all SSPs in PyGEM\n",
    "\n",
    "alpine_basins = {'YELCHO':'3429', 'VALDIVIA':'3428', 'SERRANO':'3426', 'RAPEL':'3423', 'PUELO':'3422', \n",
    "                'PASCUA':'3420', 'PALENA':'3419', 'HUASCO':'3412', 'COPIAPO':'3409', 'CISNES':'3408', \n",
    "                'BIOBIO':'3405', 'BAKER':'3404', 'AZOPARDO':'3403', 'AISEN':'3401', 'SANTA CRUZ':'3244', \n",
    "                'NEGRO':'3232', 'COLORADO':'3212', 'CHICO':'3209'} \n",
    "\n",
    "basins = ['YELCHO', 'VALDIVIA', 'SERRANO','RAPEL','PUELO', 'PASCUA', 'PALENA', 'HUASCO', 'COPIAPO', \n",
    "          'CISNES', 'BIOBIO', 'BAKER', 'AZOPARDO', 'AISEN', 'SANTA CRUZ', 'NEGRO', 'COLORADO', 'CHICO']\n",
    "\n",
    "#Generic filepath to navigate to Drive folder \n",
    "fpathPy = '/Users/finnwimberly/Library/CloudStorage/GoogleDrive-fwimberly@middlebury.edu/My Drive/Lizz Research Stuff/Runoff-intercomparison/PyGEM/17'"
   ]
  },
  {
   "cell_type": "code",
   "execution_count": null,
   "id": "af2967b5-7aa8-4093-9c03-3810c90de042",
   "metadata": {},
   "outputs": [],
   "source": [
    "basin_gls = {}\n",
    "for basin, code in alpine_basins.items():\n",
    "    basin_gls[basin] = select_glaciers_json(code)"
   ]
  },
  {
   "cell_type": "code",
   "execution_count": null,
   "id": "b48f30f4-4d2d-4731-9391-658d6193889c",
   "metadata": {},
   "outputs": [],
   "source": [
    "#Importing all runoff data\n",
    "import glob   #use glob to group files by filename similarities (in this case, SSP)\n",
    "\n",
    "volume_ds = {}\n",
    "for s, SSP in enumerate(SSPs):\n",
    "    fpath1 = '/mass_annual/R17_mass_annual_c2_ba1_1set_2000_2100-{}'.format(SSP)\n",
    "    file_pattern = f'{fpathPy + fpath1}*.nc'\n",
    "    file_list = glob.glob(file_pattern)\n",
    "    #print(file_list)\n",
    "    \n",
    "    datasets = []  # Create an empty list for each SSP\n",
    "    if file_list:\n",
    "        for file in file_list:\n",
    "            with xr.open_dataset(file) as ds:\n",
    "                ds = ds.glac_mass_annual.load()\n",
    "                datasets.append(ds)\n",
    "    \n",
    "        combined_ds = xr.concat(datasets, dim='glacier')  # Concatenate the datasets\n",
    "        volume_ds[SSP] = combined_ds"
   ]
  },
  {
   "cell_type": "code",
   "execution_count": null,
   "id": "5a3a7250-2b42-418d-837c-572cd2e61d91",
   "metadata": {},
   "outputs": [],
   "source": [
    "# Sorting into basins\n",
    "basin_volumes = {}\n",
    "for basin, glacier_list in basin_gls.items():\n",
    "    ## loop over them all, drop the irrelevant IDs, and concatenate the result\n",
    "    basin_volumes[basin] = {}\n",
    "    for s, SSP in enumerate(SSPs):\n",
    "        ds_list = []\n",
    "        try:\n",
    "            ds_filtered = volume_ds[SSP].where(volume_ds[SSP].RGIId.isin(glacier_list), drop=True)\n",
    "            #print(ds_filtered)\n",
    "            ds_list.append(ds_filtered)\n",
    "        except ValueError: ## happens if there are no glaciers from this batch in the selected region\n",
    "            continue\n",
    "        basin_volumes[basin][SSP] = xr.concat(ds_list, dim='glacier')"
   ]
  },
  {
   "cell_type": "code",
   "execution_count": null,
   "id": "65d7996f-47c3-4db5-ae5f-ca8af7059282",
   "metadata": {},
   "outputs": [],
   "source": [
    "#Flipping indexing (to match other models), summing basins, and converting kg to km^3\n",
    "basin_sums_py = {}\n",
    "for s, SSP in enumerate(SSPs):        \n",
    "    basin_sums_py[SSP] = {}\n",
    "    for basin, glacier_list in basin_gls.items():\n",
    "        basin_sums_py[SSP][basin] = basin_volumes[basin][SSP].sum(dim='glacier') * 1e-12"
   ]
  },
  {
   "cell_type": "code",
   "execution_count": null,
   "id": "63462f93-6ceb-41da-84eb-7c57d9827bf9",
   "metadata": {},
   "outputs": [],
   "source": [
    "basin_sums_py['ssp126']['BIOBIO'][::,0:-1]"
   ]
  },
  {
   "cell_type": "code",
   "execution_count": null,
   "id": "7da5020d-7507-4ca5-b7c4-7c11a6983292",
   "metadata": {},
   "outputs": [],
   "source": [
    "#Compute multi GCM means and quartiles\n",
    "GCM_mean_py = {}\n",
    "GCM_q1_py = {}\n",
    "GCM_q3_py = {}\n",
    "for s, SSP in enumerate(SSPs):\n",
    "    GCM_mean_py[SSP] = {}\n",
    "    GCM_q1_py[SSP] = {}\n",
    "    GCM_q3_py[SSP] = {}\n",
    "    for basin in basins:\n",
    "        GCM_mean_py[SSP][basin] = basin_sums_py[SSP][basin].mean(dim = 'model')\n",
    "        GCM_q1_py[SSP][basin] = basin_sums_py[SSP][basin].quantile(q = 0.25, dim = 'model')\n",
    "        GCM_q3_py[SSP][basin] = basin_sums_py[SSP][basin].quantile(q = 0.75, dim = 'model')"
   ]
  },
  {
   "cell_type": "markdown",
   "id": "05646bfc-a8bf-463f-a2c3-689a26ebeeb5",
   "metadata": {},
   "source": [
    "### OGGM"
   ]
  },
  {
   "cell_type": "code",
   "execution_count": null,
   "id": "b8a65312-93f8-4642-9be9-5c0a879f1697",
   "metadata": {},
   "outputs": [],
   "source": [
    "#All of the climate models used\n",
    "modelnames_OG = ['BCC-CSM2-MR', 'CAMS-CSM1-0', 'CESM2', 'CESM2-WACCM', 'CMCC-CM2-SR5','EC-Earth3', \n",
    "                'EC-Earth3-Veg', 'FGOALS-f3-L', 'GFDL-ESM4', 'INM-CM4-8','INM-CM5-0', \n",
    "                 'MPI-ESM1-2-HR', 'MRI-ESM2-0', 'NorESM2-MM', 'TaiESM1']\n",
    "\n",
    "alpine_basins = {'YELCHO':'3429', 'VALDIVIA':'3428', 'SERRANO':'3426', 'RAPEL':'3423', 'PUELO':'3422', \n",
    "                'PASCUA':'3420', 'PALENA':'3419', 'HUASCO':'3412', 'COPIAPO':'3409', 'CISNES':'3408', \n",
    "                'BIOBIO':'3405', 'BAKER':'3404', 'AZOPARDO':'3403', 'AISEN':'3401', 'SANTA CRUZ':'3244', \n",
    "                'NEGRO':'3232', 'COLORADO':'3212', 'CHICO':'3209'} \n",
    "\n",
    "# CMCC-CM2-SR5 & TaiESM1 only hold values for ssp585––this is model list without those GCMS\n",
    "modelnames_OG_trimmed = ['BCC-CSM2-MR', 'CAMS-CSM1-0', 'CESM2', 'CESM2-WACCM', 'EC-Earth3', \n",
    "                         'EC-Earth3-Veg', 'FGOALS-f3-L', 'GFDL-ESM4', 'INM-CM4-8',\n",
    "                           'INM-CM5-0', 'MPI-ESM1-2-HR', 'MRI-ESM2-0', 'NorESM2-MM']\n",
    "\n",
    "#Generic filepath to navigate to Drive folder \n",
    "fpathOG1 = '/Users/finnwimberly/Library/CloudStorage/GoogleDrive-fwimberly@middlebury.edu/My Drive/'\n",
    "fpathOG2 = 'Lizz Research Stuff/Runoff-intercomparison/OGGM/lschuster/runs_2023.3/output/basins/'"
   ]
  },
  {
   "cell_type": "code",
   "execution_count": null,
   "id": "4e3292ca-f2a4-41ff-8926-ed580123969a",
   "metadata": {},
   "outputs": [],
   "source": [
    "#Importing all runoff data, OGGM is grouped by basin\n",
    "rf_ds = {}\n",
    "for basin, ID in alpine_basins.items():\n",
    "    fpath_basin = 'gcm_from_2000_bc_2000_2019/{}/'.format(ID)\n",
    "    #print(f'{fpathOG1 + fpathOG2 + fpath_basin}*.nc')\n",
    "    with xr.open_mfdataset(f'{fpathOG1 + fpathOG2 + fpath_basin}*.nc') as ds:\n",
    "        ds = ds.volume.load()\n",
    "    rf_ds[basin] = ds"
   ]
  },
  {
   "cell_type": "code",
   "execution_count": null,
   "id": "fb146f21-50db-434e-9923-92af7243fd7f",
   "metadata": {},
   "outputs": [],
   "source": [
    "#Summing individual glacier runoff into basin totals and converting m^3 to km^3\n",
    "basin_volume_OG = {}\n",
    "for basin, ID in alpine_basins.items():\n",
    "    basin_volume_OG[basin] = rf_ds[basin].sum(dim = 'rgi_id') * 1e-9"
   ]
  },
  {
   "cell_type": "code",
   "execution_count": null,
   "id": "6334a8c3-4629-46da-ae1f-ce6164dcd456",
   "metadata": {},
   "outputs": [],
   "source": [
    "#creating dict of GloPy format\n",
    "basins = ['YELCHO', 'VALDIVIA', 'SERRANO','RAPEL','PUELO', 'PASCUA', 'PALENA', 'HUASCO', 'COPIAPO', \n",
    "          'CISNES', 'BIOBIO', 'BAKER', 'AZOPARDO', 'AISEN', 'SANTA CRUZ', 'NEGRO', 'COLORADO', 'CHICO']\n",
    "basin_sums_OG = {}\n",
    "for s, SSP in enumerate(SSPs):\n",
    "    basin_sums_OG[SSP] = {}\n",
    "    for b, basin in enumerate(basins):\n",
    "        basin_sums_OG[SSP][basin] = basin_volume_OG[basin].sel(scenario = SSP)"
   ]
  },
  {
   "cell_type": "code",
   "execution_count": null,
   "id": "bffed482-8ace-44ec-b183-576daedb3abb",
   "metadata": {},
   "outputs": [],
   "source": [
    "#Removing these GCMs for ALL SSPs--doing even 585 as these two are not included...\n",
    "#... in Glo or Py so not only makeds OOGM easier but maintains GCM consistency in analysis\n",
    "trimmed_basin_sums_OG = {}\n",
    "for s, SSP in enumerate(SSPs):\n",
    "    trimmed_basin_sums_OG[SSP] = {}\n",
    "    for b, basin in enumerate(basins):\n",
    "        trimmed_basin_sums_OG[SSP][basin] = xr.concat([basin_sums_OG[SSP][basin][0:4], basin_sums_OG[SSP][basin][5:-1]], dim='gcm')"
   ]
  },
  {
   "cell_type": "code",
   "execution_count": null,
   "id": "0549a69c-5659-4c7c-9dd9-6b28880e629e",
   "metadata": {},
   "outputs": [],
   "source": [
    "trimmed_basin_sums_OG['ssp126']['BIOBIO']"
   ]
  },
  {
   "cell_type": "code",
   "execution_count": null,
   "id": "759a31c0-7508-462a-bf9f-8ae77c55e564",
   "metadata": {},
   "outputs": [],
   "source": [
    "#Compute multi GCM means and quartiles for OGGM\n",
    "GCM_mean_OG = {}\n",
    "GCM_q1_OG = {}\n",
    "GCM_q3_OG = {}\n",
    "for s, SSP in enumerate(SSPs):\n",
    "    which_ssp = SSPs[s]\n",
    "    GCM_mean_OG[which_ssp] = {}\n",
    "    GCM_q1_OG[which_ssp] = {}\n",
    "    GCM_q3_OG[which_ssp] = {}\n",
    "    for basin in basins:\n",
    "        GCM_mean_OG[which_ssp][basin] = trimmed_basin_sums_OG[which_ssp][basin].mean(dim = 'gcm')\n",
    "        GCM_q1_OG[which_ssp][basin] = trimmed_basin_sums_OG[which_ssp][basin].quantile(q = 0.25, dim = 'gcm')\n",
    "        GCM_q3_OG[which_ssp][basin] = trimmed_basin_sums_OG[which_ssp][basin].quantile(q = 0.75, dim = 'gcm')"
   ]
  },
  {
   "cell_type": "code",
   "execution_count": null,
   "id": "a67aeb11-cb89-4d48-93ae-c55392865f5f",
   "metadata": {},
   "outputs": [],
   "source": [
    "#Plot setup\n",
    "from cycler import cycler\n",
    "import matplotlib.patches as mpatches\n",
    "\n",
    "scenarios = ['ssp126','ssp245','ssp370','ssp585']\n",
    "\n",
    "basins = ['YELCHO', 'VALDIVIA', 'SERRANO','RAPEL','PUELO', 'PASCUA', 'PALENA', 'HUASCO', 'COPIAPO', \n",
    "          'CISNES', 'BIOBIO', 'BAKER', 'AZOPARDO', 'AISEN', 'SANTA CRUZ', 'NEGRO', 'COLORADO', 'CHICO']\n",
    "\n",
    "basinstext = ['Yelcho', 'Valdivia', 'Serrano','Rapel','Puelo', 'Pascua', 'Palena', 'Huasco', 'Copiapo', \n",
    "          'Cisnes', 'Biobio', 'Baker', 'Azopardo', 'Aisen', 'Santa Cruz', 'Negro', 'Colorado', 'Chico']\n",
    "\n",
    "yrs_glo = np.arange(1980,2101)\n",
    "yrs_glo_dt = pd.to_datetime([str(y)for y in yrs_glo])\n",
    "\n",
    "colors_glo =  plt.colormaps['Greens']\n",
    "line_colors_glo = colors_glo(np.linspace(0.2, 0.6, num = 12))\n",
    "glo_cycler = cycler(color = line_colors_glo)\n",
    "\n",
    "colors_py =  plt.colormaps['Purples']\n",
    "line_colors_py = colors_py(np.linspace(0.2, 0.6,num = 12))\n",
    "py_cycler = cycler(color = line_colors_py)\n",
    "\n",
    "colors_OG =  plt.colormaps['Blues']\n",
    "line_colors_OG = colors_OG(np.linspace(0.2, 0.6,num = 12))\n",
    "OG_cycler = cycler(color = line_colors_OG)"
   ]
  },
  {
   "cell_type": "code",
   "execution_count": null,
   "id": "a03c4d8f-9b56-4625-8aa8-99786c9dca5f",
   "metadata": {},
   "outputs": [],
   "source": [
    "basin_sums_py['ssp126']['BIOBIO'].sel(model = 1)[0:-1]"
   ]
  },
  {
   "cell_type": "code",
   "execution_count": null,
   "id": "0ccefee4-13de-4d4d-84ea-6dcf7671fd00",
   "metadata": {},
   "outputs": [],
   "source": [
    "#Plotting all data\n",
    "fig, axs = plt.subplots(len(basins), len(SSPs), figsize=(10, 28), sharex=True)\n",
    "for s, SSP in enumerate(scenarios):\n",
    "    which_ssp = SSPs[s]\n",
    "    for b, basin in enumerate(basins):\n",
    "\n",
    "        #OG won't plot with built-in ds.plot()\n",
    "        #Trim last value as it goes to zero\n",
    "        for m, model in enumerate(modelnames_OG_trimmed):\n",
    "            axs[b,s].plot(yrs_glo_dt[20:-1], trimmed_basin_sums_OG[which_ssp][basin][:,0:-1].sel(gcm = modelnames_OG_trimmed[m]), color = 'dodgerblue', alpha = 0.15)\n",
    "        axs[b,s].plot(yrs_glo_dt[20:-1], GCM_mean_OG[which_ssp][basin][0:-1], color = 'royalblue', linewidth = 0.9)\n",
    "        axs[b,s].plot(yrs_glo_dt[20:-1], GCM_q1_OG[which_ssp][basin][0:-1], color = 'royalblue', linewidth = 0.4)\n",
    "        axs[b,s].plot(yrs_glo_dt[20:-1], GCM_q3_OG[which_ssp][basin][0:-1], color = 'royalblue', linewidth = 0.4)\n",
    "        axs[b,s].fill_between(yrs_glo_dt[20:-1], GCM_q1_OG[which_ssp][basin][0:-1], GCM_q3_OG[which_ssp][basin][0:-1], color = 'dodgerblue', alpha = 0.5)\n",
    "\n",
    "        #Trim first value as it is incomplete hydrological year\n",
    "        # for m in modelnames_glo:\n",
    "        #     axs[b, s].plot(yrs_glo_dt, basin_sums_glo[which_ssp][basin][m], color=axs[b, s].set_prop_cycle(glo_cycler), alpha = 0.25)\n",
    "        # axs[b,s].plot(yrs_glo_dt, GCM_mean_glo[which_ssp][basin], color = 'darkgreen', linewidth = 0.9)\n",
    "        # axs[b,s].plot(yrs_glo_dt, GCM_q1_glo[which_ssp][basin], color = 'darkgreen', linewidth = 0.4)\n",
    "        # axs[b,s].plot(yrs_glo_dt, GCM_q3_glo[which_ssp][basin], color = 'darkgreen', linewidth = 0.4)\n",
    "        # axs[b,s].fill_between(yrs_glo_dt, GCM_q1_glo[which_ssp][basin], GCM_q3_glo[which_ssp][basin], color = 'green')\n",
    "        # axs[b, s].set(xlim=(pd.to_datetime('2000-01-01'), pd.to_datetime('2100-01-01')))\n",
    "\n",
    "        # basin_sums_py[which_ssp][basin].plot(hue='model', ax=axs[b, s], color=axs[b, s].set_prop_cycle(py_cycler), alpha = 0.25, add_legend=False)\n",
    "        # GCM_mean_py[which_ssp][basin].plot(hue='model', ax=axs[b, s], color = 'purple', linewidth = 0.9, add_legend=False)\n",
    "        # GCM_q1_py[which_ssp][basin].plot(hue='model', ax=axs[b, s], color = 'purple', linewidth = 0.4, add_legend=False)\n",
    "        # GCM_q3_py[which_ssp][basin].plot(hue='model', ax=axs[b, s], color = 'purple', linewidth = 0.4, add_legend=False)\n",
    "        # axs[b,s].fill_between(yrs_glo_dt[20::], GCM_q1_py[which_ssp][basin][0:-1], GCM_q3_py[which_ssp][basin][0:-1], color = 'Purple')\n",
    "        # axs[b,s].set(title = '')\n",
    "\n",
    "        for m, model in enumerate(modelnames_py):\n",
    "            axs[b,s].plot(yrs_glo_dt[20::], basin_sums_py[which_ssp][basin].sel(model = m+1)[0:-1], color = 'purple', alpha = 0.15)\n",
    "        axs[b,s].plot(yrs_glo_dt[20::], GCM_mean_py[which_ssp][basin][0:-1], color = 'purple', linewidth = 0.9)\n",
    "        axs[b,s].plot(yrs_glo_dt[20::], GCM_q1_py[which_ssp][basin][0:-1], color = 'purple', linewidth = 0.4)\n",
    "        axs[b,s].plot(yrs_glo_dt[20::], GCM_q3_py[which_ssp][basin][0:-1], color = 'purple', linewidth = 0.4)\n",
    "        axs[b,s].fill_between(yrs_glo_dt[20::], GCM_q1_py[which_ssp][basin][0:-1], GCM_q3_py[which_ssp][basin][0:-1], color = 'purple', alpha = 0.5)\n",
    "\n",
    "        #Make mean more clear for RHONE, which overlaps significantly w Glo\n",
    "        #axs[b,s].plot(yrs_glo_dt[20:-1], GCM_mean_OG[which_ssp][basin][0:-1], color = 'royalblue', linewidth = 0.9)\n",
    "\n",
    "        #Setting x and y labels and making y limits uniform within basins\n",
    "        if b == (len(basins)-1):\n",
    "            for sub_s in range(4):  # Use a different variable name for the inner loop\n",
    "                axs[b, sub_s].set_xlabel('Year')\n",
    "                axs[b, sub_s].set_xticks([pd.to_datetime('2020'),pd.to_datetime('2040'), pd.to_datetime('2060'), pd.to_datetime('2080')], [2020, 2040, 2060, 2080])\n",
    "        else:\n",
    "            axs[b, s].set_xlabel(None) \n",
    "        \n",
    "        if s == 0:                                                                    #Setting basin labels\n",
    "            for sub_b in range(len(basins)):\n",
    "                axs[sub_b,s].set_ylabel(basinstext[sub_b]+ r' $[km^3]$')\n",
    "        if s != 0:\n",
    "            axs[b, s].set_ylabel(None)\n",
    "            axs[b, s].set_yticklabels('')\n",
    "\n",
    "#green_patch = mpatches.Patch(color='darkgreen', label='GloGEM')\n",
    "purple_patch = mpatches.Patch(color='purple', label='PyGEM') \n",
    "blue_patch = mpatches.Patch(color='royalblue', label='OGGM')\n",
    "axs[0,0].legend(handles=[purple_patch, blue_patch], bbox_to_anchor=(3.15, 1.71), ncol=3)\n",
    "\n",
    "plt.suptitle('GloGEM, PyGEM, and OGGM Runoff Projections for Major Southern Andes River Basins', x=0.52, y=0.915)\n",
    "plt.title('SSP 126                            SSP 245                           SSP 370                            SSP 585', x=-1.3, y=21.5) "
   ]
  },
  {
   "cell_type": "code",
   "execution_count": null,
   "id": "67f02c66-be0d-467b-aa68-78a7dc46ed83",
   "metadata": {},
   "outputs": [],
   "source": []
  }
 ],
 "metadata": {
  "kernelspec": {
   "display_name": "Python 3 (ipykernel)",
   "language": "python",
   "name": "python3"
  },
  "language_info": {
   "codemirror_mode": {
    "name": "ipython",
    "version": 3
   },
   "file_extension": ".py",
   "mimetype": "text/x-python",
   "name": "python",
   "nbconvert_exporter": "python",
   "pygments_lexer": "ipython3",
   "version": "3.11.3"
  }
 },
 "nbformat": 4,
 "nbformat_minor": 5
}
